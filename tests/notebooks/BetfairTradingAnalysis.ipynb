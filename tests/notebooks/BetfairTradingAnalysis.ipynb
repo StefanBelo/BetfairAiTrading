{
 "cells": [
  {
   "cell_type": "markdown",
   "id": "94d740e1",
   "metadata": {},
   "source": [
    "# Betfair Trading Data Analysis\n",
    "\n",
    "This notebook demonstrates how to fetch and visualize Betfair market trading data using F# and Plotly.NET.\n",
    "\n",
    "## Features:\n",
    "- Load trading data from local Betfair API\n",
    "- Process price and volume time series data\n",
    "- Create interactive charts with dual y-axes\n",
    "- Calculate trading statistics"
   ]
  },
  {
   "cell_type": "markdown",
   "id": "050f3244",
   "metadata": {},
   "source": [
    "## 1. Setup and Package Installation\n",
    "\n",
    "First, let's install the required NuGet packages for HTTP requests, JSON parsing, and plotting."
   ]
  },
  {
   "cell_type": "code",
   "execution_count": 28,
   "id": "bcd8282b",
   "metadata": {
    "polyglot_notebook": {
     "kernelName": "fsharp"
    },
    "vscode": {
     "languageId": "polyglot-notebook"
    }
   },
   "outputs": [
    {
     "data": {
      "text/html": [
       "<div><div></div><div></div><div><strong>Installed Packages</strong><ul><li><span>FSharp.Data, 6.6.0</span></li><li><span>Newtonsoft.Json, 13.0.3</span></li><li><span>Plotly.NET, 4.2.0</span></li><li><span>Plotly.NET.Interactive, 4.2.0</span></li></ul></div></div>"
      ]
     },
     "metadata": {},
     "output_type": "display_data"
    }
   ],
   "source": [
    "#r \"nuget: FSharp.Data\"\n",
    "#r \"nuget: Plotly.NET, 4.2.0\"\n",
    "#r \"nuget: Plotly.NET.Interactive, 4.2.0\"\n",
    "#r \"nuget: Newtonsoft.Json\""
   ]
  },
  {
   "cell_type": "markdown",
   "id": "93a81646",
   "metadata": {},
   "source": [
    "## 2. Import Required Libraries\n",
    "\n",
    "Import the necessary libraries for data processing, HTTP requests, and visualization."
   ]
  },
  {
   "cell_type": "code",
   "execution_count": 30,
   "id": "a1d688b4",
   "metadata": {
    "polyglot_notebook": {
     "kernelName": "fsharp"
    },
    "vscode": {
     "languageId": "polyglot-notebook"
    }
   },
   "outputs": [],
   "source": [
    "open System\n",
    "open System.Net.Http\n",
    "open System.Threading.Tasks\n",
    "open FSharp.Data\n",
    "open Plotly.NET\n",
    "open Plotly.NET.LayoutObjects\n",
    "open Newtonsoft.Json\n",
    "open Newtonsoft.Json.Linq\n",
    "\n",
    "// Enable Plotly.NET interactive display\n",
    "Plotly.NET.Defaults.DefaultDisplayOptions <- DisplayOptions.init(PlotlyJSReference = PlotlyJSReference.CDN \"latest\")"
   ]
  },
  {
   "cell_type": "markdown",
   "id": "9e96590a",
   "metadata": {},
   "source": [
    "## 3. Define Data Models\n",
    "\n",
    "Define F# record types to represent our trading data structure."
   ]
  },
  {
   "cell_type": "code",
   "execution_count": 31,
   "id": "6a4654a8",
   "metadata": {
    "polyglot_notebook": {
     "kernelName": "fsharp"
    },
    "vscode": {
     "languageId": "polyglot-notebook"
    }
   },
   "outputs": [],
   "source": [
    "// Data models for Betfair trading data\n",
    "type TradingEntry = {\n",
    "    Time: DateTime\n",
    "    Price: decimal\n",
    "    Volume: decimal\n",
    "}\n",
    "\n",
    "type Selection = {\n",
    "    Name: string\n",
    "    Price: decimal\n",
    "}\n",
    "\n",
    "type Market = {\n",
    "    EventName: string\n",
    "    MarketName: string\n",
    "    StartTime: DateTime\n",
    "}\n",
    "\n",
    "type TradingData = {\n",
    "    Market: Market\n",
    "    Selection: Selection\n",
    "    TradedPricesAndVolume: TradingEntry list\n",
    "}\n",
    "\n",
    "// Aggregated data point for time series\n",
    "type TimeSeriesPoint = {\n",
    "    Time: DateTime\n",
    "    Price: decimal\n",
    "    Volume: decimal\n",
    "}"
   ]
  },
  {
   "cell_type": "markdown",
   "id": "6ddd7dc6",
   "metadata": {},
   "source": [
    "## 4. API Configuration\n",
    "\n",
    "Set up the API endpoint and parameters for fetching trading data."
   ]
  },
  {
   "cell_type": "code",
   "execution_count": 32,
   "id": "ee453666",
   "metadata": {
    "polyglot_notebook": {
     "kernelName": "fsharp"
    },
    "vscode": {
     "languageId": "polyglot-notebook"
    }
   },
   "outputs": [
    {
     "name": "stdout",
     "output_type": "stream",
     "text": [
      "API URL: http://localhost:10043/api/getDataContextForBetfairMarketSelection?dataContextName=MarketSelectionsPriceHistoryData&marketId=1.244137767&selectionId=500893_0.00http://localhost:10043/api/getDataContextForBetfairMarketSelection?dataContextName=MarketSelectionsPriceHistoryData&marketId=1.244137767&selectionId=500893_0.00\n",
      "\n"
     ]
    }
   ],
   "source": [
    "// API configuration\n",
    "let baseUrl = \"http://localhost:10043\"\n",
    "let dataContextName = \"MarketSelectionsPriceHistoryData\"\n",
    "let marketId = \"1.244137767\"\n",
    "let selectionId = \"500893_0.00\"\n",
    "\n",
    "let apiUrl = \n",
    "    $\"{baseUrl}/api/getDataContextForBetfairMarketSelection?dataContextName={dataContextName}&marketId={marketId}&selectionId={selectionId}\"\n",
    "\n",
    "printfn \"API URL: %s\" apiUrl"
   ]
  },
  {
   "cell_type": "markdown",
   "id": "27a3dd4f",
   "metadata": {},
   "source": [
    "## 5. Data Fetching Functions\n",
    "\n",
    "Create functions to fetch and parse the trading data from the API."
   ]
  },
  {
   "cell_type": "code",
   "execution_count": 33,
   "id": "9c862327",
   "metadata": {
    "polyglot_notebook": {
     "kernelName": "fsharp"
    },
    "vscode": {
     "languageId": "polyglot-notebook"
    }
   },
   "outputs": [],
   "source": [
    "// HTTP client for API requests\n",
    "let httpClient = new HttpClient()\n",
    "\n",
    "// Function to fetch data from API\n",
    "let fetchTradingDataAsync (url: string) = async {\n",
    "    try\n",
    "        let! response = httpClient.GetStringAsync(url) |> Async.AwaitTask\n",
    "        return Ok response\n",
    "    with\n",
    "    | ex -> return Error $\"Failed to fetch data: {ex.Message}\"\n",
    "}\n",
    "\n",
    "// Function to parse JSON response\n",
    "let parseTradingData (jsonString: string) =\n",
    "    try\n",
    "        let json = JObject.Parse(jsonString)\n",
    "        \n",
    "        // Check for API errors\n",
    "        let isError = json.Value<bool>(\"isError\") // Returns false if \"isError\" is missing, null, or not a bool\n",
    "        if isError then\n",
    "            let messageString = json.Value<string>(\"message\") // Returns null if \"message\" is missing or null\n",
    "            let messageOption = if String.IsNullOrWhiteSpace messageString then None else Some messageString\n",
    "            let message = defaultArg messageOption \"Unknown error\"\n",
    "            Error $\"API Error: {message}\"\n",
    "        else\n",
    "            // Parse market information\n",
    "            let marketJson = json.[\"market\"]\n",
    "            let market = {\n",
    "                EventName = marketJson.[\"eventName\"].Value<string>()\n",
    "                MarketName = marketJson.[\"marketName\"].Value<string>()\n",
    "                StartTime = marketJson.[\"startTime\"].Value<DateTime>()\n",
    "            }\n",
    "            \n",
    "            // Parse selection information\n",
    "            let selectionsJson = json.[\"selections\"] :?> JArray\n",
    "            let selectionJson = selectionsJson.[0]\n",
    "            let selection = {\n",
    "                Name = selectionJson.[\"selection\"].[\"name\"].Value<string>()\n",
    "                Price = selectionJson.[\"selection\"].[\"price\"].Value<decimal>()\n",
    "            }\n",
    "            \n",
    "            // Parse trading data\n",
    "            let tradingJson = selectionJson.[\"tradedPricesAndVolume\"] :?> JArray\n",
    "            let tradingEntries = \n",
    "                tradingJson\n",
    "                |> Seq.map (fun item -> {\n",
    "                    TradingEntry.Time = item.[\"time\"].Value<DateTime>()\n",
    "                    TradingEntry.Price = item.[\"price\"].Value<decimal>()\n",
    "                    TradingEntry.Volume = item.[\"volume\"].Value<decimal>()\n",
    "                }) // Record type TradingEntry is inferred\n",
    "                |> List.ofSeq\n",
    "            \n",
    "            let tradingData = {\n",
    "                Market = market\n",
    "                Selection = selection\n",
    "                TradedPricesAndVolume = tradingEntries\n",
    "            }\n",
    "            \n",
    "            Ok tradingData\n",
    "    with\n",
    "    | ex -> Error $\"Failed to parse JSON: {ex.Message}\""
   ]
  },
  {
   "cell_type": "markdown",
   "id": "f5f235d7",
   "metadata": {},
   "source": [
    "## 6. Data Processing Functions\n",
    "\n",
    "Create functions to aggregate and process the trading data for visualization."
   ]
  },
  {
   "cell_type": "code",
   "execution_count": 34,
   "id": "81842547",
   "metadata": {
    "polyglot_notebook": {
     "kernelName": "fsharp"
    },
    "vscode": {
     "languageId": "polyglot-notebook"
    }
   },
   "outputs": [],
   "source": [
    "// Function to aggregate trading data by time\n",
    "let aggregateByTime (entries: TradingEntry list) =\n",
    "    entries\n",
    "    |> List.groupBy (fun e -> e.Time)\n",
    "    |> List.map (fun (time, group) -> {\n",
    "        Time = time\n",
    "        Price = group |> List.last |> fun e -> e.Price  // Use latest price for each time\n",
    "        Volume = group |> List.sumBy (fun e -> e.Volume) // Sum volume for each time\n",
    "    })\n",
    "    |> List.sortBy (fun p -> p.Time)\n",
    "\n",
    "// Function to calculate trading statistics\n",
    "let calculateStats (points: TimeSeriesPoint list) =\n",
    "    if points.IsEmpty then\n",
    "        None\n",
    "    else\n",
    "        let prices = points |> List.map (fun p -> p.Price)\n",
    "        let volumes = points |> List.map (fun p -> p.Volume)\n",
    "        \n",
    "        let minPrice = List.min prices\n",
    "        let maxPrice = List.max prices\n",
    "        let totalVolume = List.sum volumes\n",
    "        let priceRange = if minPrice > 0m then (maxPrice - minPrice) / minPrice * 100m else 0m\n",
    "        \n",
    "        Some {|\n",
    "            MinPrice = minPrice\n",
    "            MaxPrice = maxPrice\n",
    "            TotalVolume = totalVolume\n",
    "            PriceRangePercent = priceRange\n",
    "            DataPoints = points.Length\n",
    "        |}\n",
    "\n",
    "// Display statistics\n",
    "let displayStats (stats: {| MinPrice : decimal; MaxPrice: decimal; TotalVolume: decimal; PriceRangePercent: decimal; DataPoints: int |} option) =\n",
    "    match stats with\n",
    "    | None -> printfn \"No data available for statistics\"\n",
    "    | Some s -> \n",
    "        printfn \"📊 Trading Statistics:\"\n",
    "        printfn \"   💰 Total Volume: £%.2f\" (float s.TotalVolume)\n",
    "        printfn \"   📈 Price Range: £%.2f - £%.2f\" (float s.MinPrice) (float s.MaxPrice)\n",
    "        printfn \"   📊 Price Movement: %.2f%%\" (float s.PriceRangePercent)\n",
    "        printfn \"   📍 Data Points: %d\" s.DataPoints"
   ]
  },
  {
   "cell_type": "markdown",
   "id": "cfb0f2e9",
   "metadata": {},
   "source": [
    "## 7. Load and Process Trading Data\n",
    "\n",
    "Fetch the data from the API and process it for visualization."
   ]
  },
  {
   "cell_type": "code",
   "execution_count": 35,
   "id": "858cd5cb",
   "metadata": {
    "polyglot_notebook": {
     "kernelName": "fsharp"
    },
    "vscode": {
     "languageId": "polyglot-notebook"
    }
   },
   "outputs": [],
   "source": [
    "// Load trading data\n",
    "let loadData () = async {\n",
    "    printfn \"🔄 Fetching trading data from API...\"\n",
    "    \n",
    "    let! jsonResult = fetchTradingDataAsync apiUrl\n",
    "    \n",
    "    match jsonResult with\n",
    "    | Error msg -> \n",
    "        printfn \"❌ %s\" msg\n",
    "        return None\n",
    "    | Ok jsonString ->\n",
    "        printfn \"📥 Data received, parsing...\"\n",
    "        \n",
    "        match parseTradingData jsonString with\n",
    "        | Error msg -> \n",
    "            printfn \"❌ %s\" msg\n",
    "            return None\n",
    "        | Ok tradingData ->\n",
    "            printfn \"✅ Data parsed successfully!\"\n",
    "            printfn \"🏇 Event: %s\" tradingData.Market.EventName\n",
    "            printfn \"🎯 Market: %s\" tradingData.Market.MarketName\n",
    "            printfn \"⭐ Selection: %s\" tradingData.Selection.Name\n",
    "            printfn \"💵 Current Price: £%.2f\" (float tradingData.Selection.Price)\n",
    "            printfn \"📊 Raw Trading Records: %d\" tradingData.TradedPricesAndVolume.Length\n",
    "            \n",
    "            // Aggregate data by time\n",
    "            let aggregatedData = aggregateByTime tradingData.TradedPricesAndVolume\n",
    "            printfn \"📈 Aggregated Data Points: %d\" aggregatedData.Length\n",
    "            \n",
    "            // Calculate and display statistics\n",
    "            let stats = calculateStats aggregatedData\n",
    "            displayStats stats\n",
    "            \n",
    "            return Some (tradingData, aggregatedData)\n",
    "}"
   ]
  },
  {
   "cell_type": "markdown",
   "id": "2924cd0d",
   "metadata": {},
   "source": [
    "## 8. Create Interactive Charts\n",
    "\n",
    "Generate professional-looking charts using Plotly.NET with dual y-axes for price and volume."
   ]
  },
  {
   "cell_type": "code",
   "execution_count": null,
   "id": "eb4d97f4",
   "metadata": {
    "polyglot_notebook": {
     "kernelName": "fsharp"
    },
    "vscode": {
     "languageId": "polyglot-notebook"
    }
   },
   "outputs": [
    {
     "ename": "Error",
     "evalue": "input.fsx (32,13)-(37,14) typecheck error The member or object constructor 'Column' does not take 0 argument(s). An overload was found taking 20 arguments.\ninput.fsx (55,17)-(55,98) typecheck error Type constraint mismatch. The type \n    'Title'    \nis not compatible with type\n    'string'    \n\ninput.fsx (57,35)-(57,43) typecheck error The type 'Color' does not define the field, constructor or member 'fromRGBA'. Maybe you want one of the following:\r\n   fromRGB\r\n   fromARGB\r\n   fromString\ninput.fsx (60,17)-(60,103) typecheck error Type constraint mismatch. The type \n    'Title'    \nis not compatible with type\n    'string'    \n\ninput.fsx (63,35)-(63,43) typecheck error The type 'Color' does not define the field, constructor or member 'fromRGBA'. Maybe you want one of the following:\r\n   fromRGB\r\n   fromARGB\r\n   fromString\ninput.fsx (66,22)-(66,37) typecheck error The type 'Chart' does not define the field, constructor or member 'withY2AxisStyle'. Maybe you want one of the following:\r\n   withYAxisStyle\r\n   withXAxisStyle\r\n   withYAxis\r\n   withZAxisStyle\r\n   withAAxis\ninput.fsx (94,9)-(94,14) typecheck error All branches of a pattern match expression must return values implicitly convertible to the type of the first branch, which here is 'unit'. This branch returns a value of type 'GenericChart.GenericChart'.",
     "output_type": "error",
     "traceback": [
      "input.fsx (32,13)-(37,14) typecheck error The member or object constructor 'Column' does not take 0 argument(s). An overload was found taking 20 arguments.\n",
      "input.fsx (55,17)-(55,98) typecheck error Type constraint mismatch. The type \n",
      "    'Title'    \n",
      "is not compatible with type\n",
      "    'string'    \n",
      "\n",
      "input.fsx (57,35)-(57,43) typecheck error The type 'Color' does not define the field, constructor or member 'fromRGBA'. Maybe you want one of the following:\r\n",
      "   fromRGB\r\n",
      "   fromARGB\r\n",
      "   fromString\n",
      "input.fsx (60,17)-(60,103) typecheck error Type constraint mismatch. The type \n",
      "    'Title'    \n",
      "is not compatible with type\n",
      "    'string'    \n",
      "\n",
      "input.fsx (63,35)-(63,43) typecheck error The type 'Color' does not define the field, constructor or member 'fromRGBA'. Maybe you want one of the following:\r\n",
      "   fromRGB\r\n",
      "   fromARGB\r\n",
      "   fromString\n",
      "input.fsx (66,22)-(66,37) typecheck error The type 'Chart' does not define the field, constructor or member 'withY2AxisStyle'. Maybe you want one of the following:\r\n",
      "   withYAxisStyle\r\n",
      "   withXAxisStyle\r\n",
      "   withYAxis\r\n",
      "   withZAxisStyle\r\n",
      "   withAAxis\n",
      "input.fsx (94,9)-(94,14) typecheck error All branches of a pattern match expression must return values implicitly convertible to the type of the first branch, which here is 'unit'. This branch returns a value of type 'GenericChart.GenericChart'."
     ]
    }
   ],
   "source": [
    "// Function to create trading chart\n",
    "let createTradingChart (tradingData: TradingData) (timeSeriesData: TimeSeriesPoint list) =\n",
    "    if timeSeriesData.IsEmpty then\n",
    "        printfn \"❌ No data available for charting\"\n",
    "        None\n",
    "    else\n",
    "        let times = timeSeriesData |> List.map (fun p -> p.Time)\n",
    "        let prices = timeSeriesData |> List.map (fun p -> float p.Price)\n",
    "        let volumes = timeSeriesData |> List.map (fun p -> float p.Volume)\n",
    "        \n",
    "        // Create price line chart\n",
    "        let priceTrace = \n",
    "            Chart.Scatter(\n",
    "                x = times,\n",
    "                y = prices,\n",
    "                mode = StyleParam.Mode.Lines_Markers,\n",
    "                Name = \"Price\"\n",
    "                // YAxis = StyleParam.SubPlotId.YAxis 1 // This was incorrect\n",
    "            )\n",
    "            // The following line caused a type error and has been removed.\n",
    "            // priceTrace will use the default Y-axis (Y1), which is configured by Chart.withYAxisStyle.\n",
    "            |> Chart.withLineStyle(Width = 3., Color = Color.fromHex \"#2E86AB\")\n",
    "            |> Chart.withMarkerStyle(\n",
    "                Size = 6, \n",
    "                Color = Color.fromHex \"#2E86AB\",\n",
    "                Outline = Line.init(Width = 2., Color = Color.fromKeyword White)\n",
    "            )\n",
    "        // Chart.withTraceInfo call removed as Name is set in Scatter and YAxis is now part of Scatter\n",
    "        \n",
    "        // Create volume bar chart\n",
    "        let volumeTrace = \n",
    "            Chart.Bar( // Changed from StackedArea to Bar, aligning with the comment and Plotly.NET API\n",
    "                x = times,\n",
    "                y = volumes,\n",
    "                Name = \"Volume\",\n",
    "                YAxis = StyleParam.SubPlotId.YAxis 2 // Assign Volume trace to the second Y-axis (Y2)\n",
    "            )\n",
    "            // The Chart.withTraceInfo call previously here was removed because YAxis is not a valid\n",
    "            // parameter for it. The YAxis mapping is now correctly set in the Chart.StackedArea constructor.\n",
    "            // The Name property is already set in Chart.StackedArea.\n",
    "            |> Chart.withMarkerStyle(\n",
    "                Color = Color.fromHex \"#FF9800\",\n",
    "                Opacity = 0.7,\n",
    "                Outline = Line.init(Width = 1., Color = Color.fromHex \"#FF6B35\")\n",
    "            )\n",
    "        \n",
    "        // Combine charts with dual y-axes\n",
    "        let combinedChart = \n",
    "            [priceTrace; volumeTrace]\n",
    "            |> Chart.combine\n",
    "            |> Chart.withTitle(\n",
    "                Title.init(\n",
    "                    Text = $\"{tradingData.Market.EventName} - {tradingData.Selection.Name}\",\n",
    "                    Font = Font.init(Size = 20., Color = Color.fromHex \"#2c3e50\")\n",
    "                )\n",
    "            )\n",
    "            |> Chart.withXAxisStyle(\n",
    "                Title.init(\"Time\", Font = Font.init(Size = 14., Color = Color.fromHex \"#34495e\")),\n",
    "                ShowGrid = true,\n",
    "                GridColor = Color.fromRGBA(0, 0, 0, 0.1)\n",
    "            )\n",
    "            |> Chart.withYAxisStyle(\n",
    "                Title.init(\"Price (£)\", Font = Font.init(Size = 14., Color = Color.fromHex \"#2E86AB\")),\n",
    "                Side = StyleParam.Side.Left,\n",
    "                ShowGrid = true,\n",
    "                GridColor = Color.fromRGBA(46, 134, 171, 0.2),\n",
    "                Id = StyleParam.SubPlotId.YAxis 1\n",
    "            )\n",
    "            |> Chart.withY2AxisStyle(\n",
    "                Title.init(\"Volume (£)\", Font = Font.init(Size = 14., Color = Color.fromHex \"#FF6B35\")),\n",
    "                Side = StyleParam.Side.Right,\n",
    "                Overlaying = StyleParam.LinearAxisId.Y,\n",
    "                ShowGrid = false,\n",
    "                Id = StyleParam.SubPlotId.YAxis 2\n",
    "            )\n",
    "            |> Chart.withSize(1200, 600)\n",
    "            |> Chart.withConfig(\n",
    "                Config.init(\n",
    "                    Responsive = true,\n",
    "                    DisplayModeBar = true\n",
    "                )\n",
    "            )\n",
    "        \n",
    "        Some combinedChart\n",
    "\n",
    "// Execute data loading\n",
    "let dataResult = loadData () |> Async.RunSynchronously\n",
    "\n",
    "// Create and display chart if data is available\n",
    "match dataResult with\n",
    "| None -> printfn \"❌ No data available for charting\"\n",
    "| Some (tradingData, timeSeriesData) ->\n",
    "    match createTradingChart tradingData timeSeriesData with\n",
    "    | None -> printfn \"❌ Failed to create chart\"\n",
    "    | Some chart -> \n",
    "        printfn \"📊 Displaying interactive trading chart...\"\n",
    "        chart"
   ]
  },
  {
   "cell_type": "markdown",
   "id": "f31a6d01",
   "metadata": {},
   "source": [
    "## 9. Additional Analysis Charts\n",
    "\n",
    "Create additional visualizations for deeper analysis."
   ]
  },
  {
   "cell_type": "code",
   "execution_count": null,
   "id": "c8bf0689",
   "metadata": {
    "polyglot_notebook": {
     "kernelName": "fsharp"
    },
    "vscode": {
     "languageId": "polyglot-notebook"
    }
   },
   "outputs": [],
   "source": [
    "// Volume Distribution Analysis\n",
    "match dataResult with\n",
    "| None -> printfn \"❌ No data available for volume analysis\"\n",
    "| Some (tradingData, timeSeriesData) ->\n",
    "    let volumes = timeSeriesData |> List.map (fun p -> float p.Volume)\n",
    "    \n",
    "    let volumeHistogram = \n",
    "        Chart.Histogram(\n",
    "            X = volumes,\n",
    "            NBinsX = 20\n",
    "        )\n",
    "        |> Chart.withTitle(\"Volume Distribution\")\n",
    "        |> Chart.withXAxisStyle(Title.init(\"Volume (£)\"))\n",
    "        |> Chart.withYAxisStyle(Title.init(\"Frequency\"))\n",
    "        |> Chart.withMarkerStyle(Color = Color.fromHex \"#FF9800\", Opacity = 0.7)\n",
    "        |> Chart.withSize(800, 400)\n",
    "    \n",
    "    printfn \"📊 Volume Distribution Analysis:\"\n",
    "    volumeHistogram"
   ]
  },
  {
   "cell_type": "code",
   "execution_count": null,
   "id": "2827e1fb",
   "metadata": {
    "polyglot_notebook": {
     "kernelName": "fsharp"
    },
    "vscode": {
     "languageId": "polyglot-notebook"
    }
   },
   "outputs": [],
   "source": [
    "// Price Movement Analysis\n",
    "match dataResult with\n",
    "| None -> printfn \"❌ No data available for price analysis\"\n",
    "| Some (tradingData, timeSeriesData) ->\n",
    "    if timeSeriesData.Length < 2 then\n",
    "        printfn \"❌ Insufficient data for price movement analysis\"\n",
    "    else\n",
    "        // Calculate price changes\n",
    "        let priceChanges = \n",
    "            timeSeriesData\n",
    "            |> List.pairwise\n",
    "            |> List.map (fun (prev, curr) -> \n",
    "                let change = curr.Price - prev.Price\n",
    "                (curr.Time, float change)\n",
    "            )\n",
    "        \n",
    "        let times, changes = List.unzip priceChanges\n",
    "        \n",
    "        let priceChangeChart = \n",
    "            Chart.Column(\n",
    "                keys = times,\n",
    "                values = changes\n",
    "            )\n",
    "            |> Chart.withTitle(\"Price Changes Over Time\")\n",
    "            |> Chart.withXAxisStyle(Title.init(\"Time\"))\n",
    "            |> Chart.withYAxisStyle(Title.init(\"Price Change (£)\"))\n",
    "            |> Chart.withMarkerStyle(\n",
    "                Color = changes |> List.map (fun c -> if c >= 0.0 then Color.fromHex \"#4CAF50\" else Color.fromHex \"#F44336\"),\n",
    "                Opacity = 0.8\n",
    "            )\n",
    "            |> Chart.withSize(800, 400)\n",
    "        \n",
    "        printfn \"📊 Price Movement Analysis:\"\n",
    "        priceChangeChart"
   ]
  },
  {
   "cell_type": "markdown",
   "id": "10e304b7",
   "metadata": {},
   "source": [
    "## 10. Summary and Export\n",
    "\n",
    "Display final summary and provide options for data export."
   ]
  },
  {
   "cell_type": "code",
   "execution_count": null,
   "id": "70f0a9a3",
   "metadata": {
    "polyglot_notebook": {
     "kernelName": "fsharp"
    },
    "vscode": {
     "languageId": "polyglot-notebook"
    }
   },
   "outputs": [],
   "source": [
    "// Final summary\n",
    "match dataResult with\n",
    "| None -> printfn \"❌ Analysis completed with no data\"\n",
    "| Some (tradingData, timeSeriesData) ->\n",
    "    printfn \"\\n🎯 Analysis Summary:\"\n",
    "    printfn \"====================\"\n",
    "    printfn \"📅 Event: %s\" tradingData.Market.EventName\n",
    "    printfn \"🎯 Market: %s\" tradingData.Market.MarketName\n",
    "    printfn \"⭐ Selection: %s\" tradingData.Selection.Name\n",
    "    printfn \"🕐 Start Time: %s\" (tradingData.Market.StartTime.ToString(\"yyyy-MM-dd HH:mm:ss\"))\n",
    "    printfn \"💵 Current Price: £%.2f\" (float tradingData.Selection.Price)\n",
    "    \n",
    "    let stats = calculateStats timeSeriesData\n",
    "    match stats with\n",
    "    | Some s ->\n",
    "        printfn \"\\n📊 Trading Performance:\"\n",
    "        printfn \"💰 Total Volume Traded: £%.2f\" (float s.TotalVolume)\n",
    "        printfn \"📈 Price Range: £%.2f - £%.2f\" (float s.MinPrice) (float s.MaxPrice)\n",
    "        printfn \"📊 Price Volatility: %.2f%%\" (float s.PriceRangePercent)\n",
    "        printfn \"📍 Data Granularity: %d time points\" s.DataPoints\n",
    "        \n",
    "        // Trading insights\n",
    "        let avgVolume = s.TotalVolume / decimal s.DataPoints\n",
    "        printfn \"\\n💡 Insights:\"\n",
    "        printfn \"📊 Average Volume per Time Point: £%.2f\" (float avgVolume)\n",
    "        \n",
    "        if s.PriceRangePercent > 5m then\n",
    "            printfn \"⚠️  High volatility detected (>5%% price movement)\"\n",
    "        elif s.PriceRangePercent < 1m then\n",
    "            printfn \"📈 Stable pricing (low volatility)\"\n",
    "        else\n",
    "            printfn \"📊 Moderate price movement\"\n",
    "            \n",
    "        if s.TotalVolume > 1000m then\n",
    "            printfn \"💰 High trading activity\"\n",
    "        elif s.TotalVolume < 100m then\n",
    "            printfn \"📉 Low trading activity\"\n",
    "        else\n",
    "            printfn \"📊 Moderate trading activity\"\n",
    "    | None -> printfn \"❌ No statistical data available\"\n",
    "    \n",
    "    printfn \"\\n✅ Analysis complete!\"\n",
    "    printfn \"🔄 Refresh the API data and re-run cells to get latest information.\""
   ]
  },
  {
   "cell_type": "markdown",
   "id": "db6746db",
   "metadata": {},
   "source": [
    "## 11. Advanced Analytics\n",
    "\n",
    "Advanced analysis functions for deeper insights into trading patterns, similar to the HTML file functionality."
   ]
  },
  {
   "cell_type": "code",
   "execution_count": null,
   "id": "37bb8652",
   "metadata": {
    "polyglot_notebook": {
     "kernelName": "fsharp"
    },
    "vscode": {
     "languageId": "polyglot-notebook"
    }
   },
   "outputs": [],
   "source": [
    "// Advanced analytics functions\n",
    "\n",
    "// Function to analyze detailed price movements\n",
    "let analyzePriceMovements (data: TimeSeriesPoint list) =\n",
    "    if data.Length < 2 then\n",
    "        printfn \"Not enough data for movement analysis\"\n",
    "        None\n",
    "    else\n",
    "        let movements = \n",
    "            data\n",
    "            |> List.pairwise\n",
    "            |> List.map (fun (prev, curr) ->\n",
    "                let change = curr.Price - prev.Price\n",
    "                let percentChange = if prev.Price > 0m then (change / prev.Price) * 100m else 0m\n",
    "                (curr.Time, change, percentChange))\n",
    "        \n",
    "        let upMoves = movements |> List.filter (fun (_, change, _) -> change > 0m) |> List.length\n",
    "        let downMoves = movements |> List.filter (fun (_, change, _) -> change < 0m) |> List.length\n",
    "        let sidewaysMoves = movements |> List.filter (fun (_, change, _) -> change = 0m) |> List.length\n",
    "        \n",
    "        let maxIncrease = movements |> List.maxBy (fun (_, _, pct) -> pct)\n",
    "        let maxDecrease = movements |> List.minBy (fun (_, _, pct) -> pct)\n",
    "        \n",
    "        printfn \"\\n📈 Price Movement Analysis:\"\n",
    "        printfn \"├── Up movements: %d\" upMoves\n",
    "        printfn \"├── Down movements: %d\" downMoves\n",
    "        printfn \"├── Sideways movements: %d\" sidewaysMoves\n",
    "        printfn \"├── Largest increase: %.2f%% at %A\" (let (_, _, pct) = maxIncrease in pct) (let (time, _, _) = maxIncrease in time)\n",
    "        printfn \"└── Largest decrease: %.2f%% at %A\" (let (_, _, pct) = maxDecrease in pct) (let (time, _, _) = maxDecrease in time)\n",
    "        \n",
    "        Some {\n",
    "            UpMoves = upMoves\n",
    "            DownMoves = downMoves\n",
    "            SidewaysMoves = sidewaysMoves\n",
    "            MaxIncrease = maxIncrease\n",
    "            MaxDecrease = maxDecrease\n",
    "        }\n",
    "\n",
    "// Function to analyze volume patterns\n",
    "let analyzeVolumePatterns (data: TimeSeriesPoint list) =\n",
    "    if data.Length = 0 then\n",
    "        printfn \"No data for volume analysis\"\n",
    "        None\n",
    "    else\n",
    "        let totalVolume = data |> List.sumBy (_.Volume)\n",
    "        let avgVolume = totalVolume / decimal data.Length\n",
    "        let maxVolume = data |> List.maxBy (_.Volume)\n",
    "        let minVolume = data |> List.minBy (_.Volume)\n",
    "        \n",
    "        let highVolumeThreshold = avgVolume * 2m\n",
    "        let highVolumePeriods = data |> List.filter (fun d -> d.Volume > highVolumeThreshold) |> List.length\n",
    "        \n",
    "        let volumeVariance = \n",
    "            data \n",
    "            |> List.map (fun d -> (d.Volume - avgVolume) * (d.Volume - avgVolume))\n",
    "            |> List.average\n",
    "        let volumeStdDev = sqrt (float volumeVariance)\n",
    "        \n",
    "        printfn \"\\n📊 Volume Analysis:\"\n",
    "        printfn \"├── Average volume: £%.2f\" avgVolume\n",
    "        printfn \"├── Volume std deviation: £%.2f\" volumeStdDev\n",
    "        printfn \"├── Peak volume: £%.2f at %A\" maxVolume.Volume maxVolume.Time\n",
    "        printfn \"├── Minimum volume: £%.2f at %A\" minVolume.Volume minVolume.Time\n",
    "        printfn \"└── High volume periods (>2x avg): %d\" highVolumePeriods\n",
    "        \n",
    "        Some {\n",
    "            TotalVolume = totalVolume\n",
    "            AverageVolume = avgVolume\n",
    "            StdDeviation = decimal volumeStdDev\n",
    "            PeakVolume = maxVolume\n",
    "            MinVolume = minVolume\n",
    "            HighVolumePeriods = highVolumePeriods\n",
    "        }\n",
    "\n",
    "// Define types for analytics results\n",
    "type MovementAnalysis = {\n",
    "    UpMoves: int\n",
    "    DownMoves: int\n",
    "    SidewaysMoves: int\n",
    "    MaxIncrease: DateTime * decimal * decimal\n",
    "    MaxDecrease: DateTime * decimal * decimal\n",
    "}\n",
    "\n",
    "type VolumeAnalysis = {\n",
    "    TotalVolume: decimal\n",
    "    AverageVolume: decimal\n",
    "    StdDeviation: decimal\n",
    "    PeakVolume: TimeSeriesPoint\n",
    "    MinVolume: TimeSeriesPoint\n",
    "    HighVolumePeriods: int\n",
    "}"
   ]
  },
  {
   "cell_type": "code",
   "execution_count": null,
   "id": "d707c2c0",
   "metadata": {
    "polyglot_notebook": {
     "kernelName": "fsharp"
    },
    "vscode": {
     "languageId": "polyglot-notebook"
    }
   },
   "outputs": [],
   "source": [
    "// Enhanced chart creation with professional styling\n",
    "let createProfessionalTradingChart (tradingData: TradingData) (timeSeriesData: TimeSeriesPoint list) =\n",
    "    \n",
    "    let times = timeSeriesData |> List.map (_.Time)\n",
    "    let prices = timeSeriesData |> List.map (fun x -> float x.Price)\n",
    "    let volumes = timeSeriesData |> List.map (fun x -> float x.Volume)\n",
    "    \n",
    "    // Create price trace with spline smoothing\n",
    "    let priceTrace = \n",
    "        Chart.Spline(\n",
    "            x = times,\n",
    "            y = prices,\n",
    "            Name = \"Price (£)\",\n",
    "            LineColor = Color.fromHex \"#2E86AB\",\n",
    "            LineWidth = 3.0,\n",
    "            ShowMarkers = true\n",
    "        )\n",
    "        |> Chart.withTraceInfo(YAxis = StyleParam.SubPlotId.YAxis 1)\n",
    "        |> Chart.withMarkerStyle(\n",
    "            Size = 8,\n",
    "            Color = Color.fromHex \"#2E86AB\",\n",
    "            Line = Line.init(Color = Color.fromKeyword White, Width = 2.0)\n",
    "        )\n",
    "    \n",
    "    // Create volume trace with gradient effect\n",
    "    let volumeTrace =\n",
    "        Chart.Column(\n",
    "            keys = times,\n",
    "            values = volumes,\n",
    "            Name = \"Volume (£)\",\n",
    "            MarkerColor = Color.fromHex \"#FF9800\"\n",
    "        )\n",
    "        |> Chart.withTraceInfo(YAxis = StyleParam.SubPlotId.YAxis 2)\n",
    "        |> Chart.withMarkerStyle(\n",
    "            Opacity = 0.7,\n",
    "            Line = Line.init(Color = Color.fromHex \"#FF6B35\", Width = 1.0)\n",
    "        )\n",
    "    \n",
    "    // Combine charts with enhanced styling\n",
    "    [priceTrace; volumeTrace]\n",
    "    |> Chart.combine\n",
    "    |> Chart.withTitle(\n",
    "        sprintf \"%s - %s\" tradingData.Market.EventName tradingData.Selection.Name,\n",
    "        TitleFont = Font.init(Size = 24, Color = Color.fromHex \"#2c3e50\", Family = StyleParam.FontFamily.Arial)\n",
    "    )\n",
    "    |> Chart.withXAxisStyle(\n",
    "        Title = Title.init(\"Time\", Font = Font.init(Size = 14, Color = Color.fromHex \"#34495e\")),\n",
    "        ShowGrid = true,\n",
    "        GridColor = Color.fromRGBA(0, 0, 0, 0.1),\n",
    "        ZeroLine = false\n",
    "    )\n",
    "    |> Chart.withYAxisStyle(\n",
    "        Title = Title.init(\"Price (£)\", Font = Font.init(Size = 14, Color = Color.fromHex \"#2E86AB\")),\n",
    "        Side = StyleParam.Side.Left,\n",
    "        ShowGrid = true,\n",
    "        GridColor = Color.fromRGBA(46, 134, 171, 0.2),\n",
    "        ZeroLine = false\n",
    "    )\n",
    "    |> Chart.withYAxis(\n",
    "        LinearAxis.init(\n",
    "            Title = Title.init(\"Volume (£)\", Font = Font.init(Size = 14, Color = Color.fromHex \"#FF6B35\")),\n",
    "            Side = StyleParam.Side.Right,\n",
    "            Overlaying = StyleParam.LinearAxisId.Y 1,\n",
    "            ShowGrid = false,\n",
    "            ZeroLine = false\n",
    "        ),\n",
    "        Id = StyleParam.SubPlotId.YAxis 2\n",
    "    )\n",
    "    |> Chart.withLayoutStyle(\n",
    "        PaperBGColor = Color.fromHex \"#fafafa\",\n",
    "        PlotBGColor = Color.fromKeyword White,\n",
    "        ShowLegend = true,\n",
    "        Legend = Legend.init(\n",
    "            X = 0.02,\n",
    "            Y = 0.98,\n",
    "            BGColor = Color.fromRGBA(255, 255, 255, 0.9),\n",
    "            BorderColor = Color.fromHex \"#bdc3c7\",\n",
    "            BorderWidth = 1.0\n",
    "        )\n",
    "    )\n",
    "    |> Chart.withConfig(\n",
    "        Config.init(\n",
    "            Responsive = true,\n",
    "            DisplayModeBar = true,\n",
    "            DisplayLogo = false,\n",
    "            ModeBarButtonsToRemove = [\"pan2d\"; \"lasso2d\"; \"select2d\"]\n",
    "        )\n",
    "    )\n",
    "    |> Chart.withSize(1000, 600)"
   ]
  },
  {
   "cell_type": "code",
   "execution_count": null,
   "id": "18cd648c",
   "metadata": {
    "polyglot_notebook": {
     "kernelName": "fsharp"
    },
    "vscode": {
     "languageId": "polyglot-notebook"
    }
   },
   "outputs": [],
   "source": [
    "// Run comprehensive analysis with all new features\n",
    "match dataResult with\n",
    "| None -> printfn \"❌ No data available for comprehensive analysis\"\n",
    "| Some (tradingData, timeSeriesData) ->\n",
    "    printfn \"\\n🚀 Running Comprehensive Analysis...\"\n",
    "    printfn \"=========================================\\n\"\n",
    "    \n",
    "    // Run advanced analytics\n",
    "    let movementAnalysis = analyzePriceMovements timeSeriesData\n",
    "    let volumeAnalysis = analyzeVolumePatterns timeSeriesData\n",
    "    \n",
    "    // Create enhanced professional chart\n",
    "    printfn \"\\n📊 Creating professional trading chart...\"\n",
    "    let professionalChart = createProfessionalTradingChart tradingData timeSeriesData\n",
    "    \n",
    "    // Display the enhanced chart\n",
    "    professionalChart\n",
    "    \n",
    "    // Trading insights based on analytics\n",
    "    printfn \"\\n💡 Advanced Trading Insights:\"\n",
    "    printfn \"=============================\"\n",
    "    \n",
    "    match movementAnalysis, volumeAnalysis with\n",
    "    | Some mvmt, Some vol ->\n",
    "        let totalMoves = mvmt.UpMoves + mvmt.DownMoves + mvmt.SidewaysMoves\n",
    "        let upPercentage = (float mvmt.UpMoves / float totalMoves) * 100.0\n",
    "        let downPercentage = (float mvmt.DownMoves / float totalMoves) * 100.0\n",
    "        \n",
    "        printfn \"📈 Price Trend: %.1f%% up, %.1f%% down movements\" upPercentage downPercentage\n",
    "        \n",
    "        if upPercentage > 60.0 then\n",
    "            printfn \"🎯 Strong upward trend detected\"\n",
    "        elif downPercentage > 60.0 then\n",
    "            printfn \"📉 Strong downward trend detected\"\n",
    "        else\n",
    "            printfn \"↔️  Sideways/consolidating market\"\n",
    "        \n",
    "        if vol.HighVolumePeriods > timeSeriesData.Length / 4 then\n",
    "            printfn \"💥 High volatility period - active trading\"\n",
    "        else\n",
    "            printfn \"📊 Normal trading activity\"\n",
    "        \n",
    "        let volumeConsistency = (vol.AverageVolume / vol.StdDeviation) \n",
    "        if volumeConsistency > 2m then\n",
    "            printfn \"✅ Consistent volume patterns\"\n",
    "        else\n",
    "            printfn \"⚠️  Irregular volume patterns\"\n",
    "            \n",
    "    | _ -> printfn \"❌ Could not complete advanced analysis\"\n",
    "    \n",
    "    printfn \"\\n✅ Comprehensive analysis complete!\""
   ]
  }
 ],
 "metadata": {
  "kernelspec": {
   "display_name": ".NET (C#)",
   "language": "C#",
   "name": ".net-csharp"
  },
  "language_info": {
   "name": "python"
  },
  "polyglot_notebook": {
   "kernelInfo": {
    "defaultKernelName": "csharp",
    "items": [
     {
      "aliases": [],
      "name": "csharp"
     }
    ]
   }
  }
 },
 "nbformat": 4,
 "nbformat_minor": 5
}
