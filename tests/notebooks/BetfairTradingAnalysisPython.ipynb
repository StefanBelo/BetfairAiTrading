{
 "cells": [
  {
   "cell_type": "markdown",
   "id": "f0aa3314",
   "metadata": {},
   "source": [
    "# Betfair Market Selection Price History Analysis\n",
    "\n",
    "This notebook demonstrates how to load data from the Betfair API endpoint and create interactive charts for price history analysis.\n",
    "\n",
    "## Overview\n",
    "- Load market selection data from Betfair API\n",
    "- Parse and explore the data structure\n",
    "- Create interactive visualizations for price and volume analysis\n",
    "- Compare multiple selections within the same market"
   ]
  },
  {
   "cell_type": "markdown",
   "id": "b7594ccf",
   "metadata": {},
   "source": [
    "## 1. Import Required Libraries\n",
    "\n",
    "Import necessary libraries including requests for API calls, pandas for data manipulation, plotly for interactive charting, and datetime for time handling."
   ]
  },
  {
   "cell_type": "code",
   "execution_count": 1,
   "id": "69fb6519",
   "metadata": {},
   "outputs": [
    {
     "name": "stdout",
     "output_type": "stream",
     "text": [
      "Requirement already satisfied: requests in c:\\python312\\lib\\site-packages (2.32.3)\n",
      "Requirement already satisfied: pandas in c:\\python312\\lib\\site-packages (2.2.3)\n",
      "Requirement already satisfied: numpy in c:\\python312\\lib\\site-packages (2.2.6)\n",
      "Requirement already satisfied: plotly in c:\\python312\\lib\\site-packages (6.1.1)\n",
      "Requirement already satisfied: matplotlib in c:\\python312\\lib\\site-packages (3.10.3)\n",
      "Requirement already satisfied: seaborn in c:\\python312\\lib\\site-packages (0.13.2)\n",
      "Requirement already satisfied: charset-normalizer<4,>=2 in c:\\python312\\lib\\site-packages (from requests) (3.4.2)\n",
      "Requirement already satisfied: idna<4,>=2.5 in c:\\python312\\lib\\site-packages (from requests) (3.10)\n",
      "Requirement already satisfied: urllib3<3,>=1.21.1 in c:\\python312\\lib\\site-packages (from requests) (2.4.0)\n",
      "Requirement already satisfied: certifi>=2017.4.17 in c:\\python312\\lib\\site-packages (from requests) (2025.4.26)\n",
      "Requirement already satisfied: python-dateutil>=2.8.2 in c:\\python312\\lib\\site-packages (from pandas) (2.9.0.post0)\n",
      "Requirement already satisfied: pytz>=2020.1 in c:\\python312\\lib\\site-packages (from pandas) (2025.2)\n",
      "Requirement already satisfied: tzdata>=2022.7 in c:\\python312\\lib\\site-packages (from pandas) (2025.2)\n",
      "Requirement already satisfied: narwhals>=1.15.1 in c:\\python312\\lib\\site-packages (from plotly) (1.41.0)\n",
      "Requirement already satisfied: packaging in c:\\python312\\lib\\site-packages (from plotly) (25.0)\n",
      "Requirement already satisfied: contourpy>=1.0.1 in c:\\python312\\lib\\site-packages (from matplotlib) (1.3.2)\n",
      "Requirement already satisfied: cycler>=0.10 in c:\\python312\\lib\\site-packages (from matplotlib) (0.12.1)\n",
      "Requirement already satisfied: fonttools>=4.22.0 in c:\\python312\\lib\\site-packages (from matplotlib) (4.58.0)\n",
      "Requirement already satisfied: kiwisolver>=1.3.1 in c:\\python312\\lib\\site-packages (from matplotlib) (1.4.8)\n",
      "Requirement already satisfied: pillow>=8 in c:\\python312\\lib\\site-packages (from matplotlib) (11.2.1)\n",
      "Requirement already satisfied: pyparsing>=2.3.1 in c:\\python312\\lib\\site-packages (from matplotlib) (3.2.3)\n",
      "Requirement already satisfied: six>=1.5 in c:\\python312\\lib\\site-packages (from python-dateutil>=2.8.2->pandas) (1.17.0)\n",
      "Note: you may need to restart the kernel to use updated packages.\n",
      "Libraries imported successfully!\n"
     ]
    }
   ],
   "source": [
    "# Install Required Libraries if not already present\n",
    "%pip install requests pandas numpy plotly matplotlib seaborn\n",
    "\n",
    "# Import Required Libraries\n",
    "import requests\n",
    "import pandas as pd\n",
    "import numpy as np\n",
    "import plotly.express as px\n",
    "import plotly.graph_objects as go\n",
    "from plotly.subplots import make_subplots\n",
    "import matplotlib.pyplot as plt\n",
    "import seaborn as sns\n",
    "from datetime import datetime, timedelta\n",
    "import json\n",
    "import warnings\n",
    "warnings.filterwarnings('ignore')\n",
    "\n",
    "# Set up plotting style\n",
    "plt.style.use('seaborn-v0_8')\n",
    "sns.set_palette(\"husl\")\n",
    "\n",
    "print(\"Libraries imported successfully!\")"
   ]
  },
  {
   "cell_type": "markdown",
   "id": "1ac88f9a",
   "metadata": {},
   "source": [
    "## 2. Load Data from Betfair API\n",
    "\n",
    "Use the requests library to fetch data from the Betfair API endpoint and handle the JSON response."
   ]
  },
  {
   "cell_type": "code",
   "execution_count": 2,
   "id": "e7323dc0",
   "metadata": {},
   "outputs": [
    {
     "name": "stdout",
     "output_type": "stream",
     "text": [
      "API URL: http://localhost:10043/api/getDataContextForBetfairMarketSelection?dataContextName=MarketSelectionsPriceHistoryData&marketId=1.244137767&selectionId=500893_0.00\n",
      "Data loaded successfully! Response size: 279960 characters\n",
      "Data structure keys: ['market', 'selections']\n"
     ]
    }
   ],
   "source": [
    "# API Configuration\n",
    "API_BASE_URL = \"http://localhost:10043/api/getDataContextForBetfairMarketSelection\"\n",
    "MARKET_ID = \"1.244137767\"\n",
    "SELECTION_ID = \"500893_0.00\"\n",
    "DATA_CONTEXT_NAME = \"MarketSelectionsPriceHistoryData\"\n",
    "\n",
    "# Construct the API URL\n",
    "api_url = f\"{API_BASE_URL}?dataContextName={DATA_CONTEXT_NAME}&marketId={MARKET_ID}&selectionId={SELECTION_ID}\"\n",
    "\n",
    "print(f\"API URL: {api_url}\")\n",
    "\n",
    "# Function to load data from API\n",
    "def load_betfair_data(url):\n",
    "    \"\"\"\n",
    "    Load data from Betfair API endpoint\n",
    "    \"\"\"\n",
    "    try:\n",
    "        response = requests.get(url, timeout=30)\n",
    "        response.raise_for_status()  # Raise an exception for bad status codes\n",
    "        \n",
    "        data = response.json()\n",
    "        print(f\"Data loaded successfully! Response size: {len(str(data))} characters\")\n",
    "        return data\n",
    "    \n",
    "    except requests.exceptions.RequestException as e:\n",
    "        print(f\"Error loading data from API: {e}\")\n",
    "        return None\n",
    "    except json.JSONDecodeError as e:\n",
    "        print(f\"Error parsing JSON response: {e}\")\n",
    "        return None\n",
    "\n",
    "# Load the data\n",
    "raw_data = load_betfair_data(api_url)\n",
    "\n",
    "if raw_data:\n",
    "    print(\"Data structure keys:\", list(raw_data.keys()) if isinstance(raw_data, dict) else \"Data is not a dictionary\")\n",
    "else:\n",
    "    print(\"Failed to load data. Please check the API endpoint and try again.\")"
   ]
  },
  {
   "cell_type": "markdown",
   "id": "544ae7ad",
   "metadata": {},
   "source": [
    "## 3. Parse and Explore the Data\n",
    "\n",
    "Convert the JSON response to a pandas DataFrame and explore the data structure, columns, and basic statistics."
   ]
  },
  {
   "cell_type": "code",
   "execution_count": 3,
   "id": "665e2fa1",
   "metadata": {},
   "outputs": [
    {
     "name": "stdout",
     "output_type": "stream",
     "text": [
      "=== DATA STRUCTURE EXPLORATION ===\n",
      "Dictionary with 2 keys:\n",
      "  'market': dict\n",
      "    Dictionary with 6 keys:\n",
      "      'marketId': str\n",
      "      'startTime': str\n",
      "      'eventType': str\n",
      "      'eventName': str\n",
      "      'marketName': str\n",
      "      'status': str\n",
      "  'selections': list\n",
      "\n",
      "Using data from key: 'selections'\n",
      "\n",
      "=== DATAFRAME INFO ===\n",
      "Shape: (1, 2)\n",
      "Columns: ['selection', 'tradedPricesAndVolume']\n",
      "\n",
      "First few rows:\n",
      "                                           selection  \\\n",
      "0  {'selectionId': '500893_0.00', 'name': 'Elvers...   \n",
      "\n",
      "                               tradedPricesAndVolume  \n",
      "0  [{'time': '2025-05-24T09:55:26+02:00', 'price'...  \n",
      "\n",
      "Data types:\n",
      "selection                object\n",
      "tradedPricesAndVolume    object\n",
      "dtype: object\n",
      "\n",
      "Basic statistics:\n",
      "                                                selection  \\\n",
      "count                                                   1   \n",
      "unique                                                  1   \n",
      "top     {'selectionId': '500893_0.00', 'name': 'Elvers...   \n",
      "freq                                                    1   \n",
      "\n",
      "                                    tradedPricesAndVolume  \n",
      "count                                                   1  \n",
      "unique                                                  1  \n",
      "top     [{'time': '2025-05-24T09:55:26+02:00', 'price'...  \n",
      "freq                                                    1  \n"
     ]
    }
   ],
   "source": [
    "# Function to explore data structure\n",
    "def explore_data_structure(data, max_depth=3, current_depth=0):\n",
    "    \"\"\"\n",
    "    Recursively explore the structure of nested data\n",
    "    \"\"\"\n",
    "    if current_depth >= max_depth:\n",
    "        return\n",
    "    \n",
    "    if isinstance(data, dict):\n",
    "        print(\"  \" * current_depth + f\"Dictionary with {len(data)} keys:\")\n",
    "        for key, value in data.items():\n",
    "            print(\"  \" * (current_depth + 1) + f\"'{key}': {type(value).__name__}\")\n",
    "            if isinstance(value, (dict, list)) and len(str(value)) < 500:\n",
    "                explore_data_structure(value, max_depth, current_depth + 2)\n",
    "    elif isinstance(data, list):\n",
    "        print(\"  \" * current_depth + f\"List with {len(data)} items\")\n",
    "        if data and len(str(data[0])) < 500:\n",
    "            print(\"  \" * (current_depth + 1) + f\"First item type: {type(data[0]).__name__}\")\n",
    "            explore_data_structure(data[0], max_depth, current_depth + 2)\n",
    "\n",
    "if raw_data:\n",
    "    print(\"=== DATA STRUCTURE EXPLORATION ===\")\n",
    "    explore_data_structure(raw_data)\n",
    "    \n",
    "    # Try to convert to DataFrame based on common structures\n",
    "    df = None\n",
    "    \n",
    "    # Check if data is directly a list\n",
    "    if isinstance(raw_data, list):\n",
    "        df = pd.DataFrame(raw_data)\n",
    "    \n",
    "    # Check if data has a common key like 'data', 'results', 'prices', etc.\n",
    "    elif isinstance(raw_data, dict):\n",
    "        possible_keys = ['data', 'results', 'prices', 'priceHistory', 'selections', 'marketData']\n",
    "        for key in possible_keys:\n",
    "            if key in raw_data and isinstance(raw_data[key], list):\n",
    "                df = pd.DataFrame(raw_data[key])\n",
    "                print(f\"\\nUsing data from key: '{key}'\")\n",
    "                break\n",
    "        \n",
    "        # If no standard key found, try to flatten the dictionary\n",
    "        if df is None:\n",
    "            # Look for any list in the data\n",
    "            for key, value in raw_data.items():\n",
    "                if isinstance(value, list) and len(value) > 0:\n",
    "                    df = pd.DataFrame(value)\n",
    "                    print(f\"\\nUsing data from key: '{key}'\")\n",
    "                    break\n",
    "    \n",
    "    if df is not None and not df.empty:\n",
    "        print(f\"\\n=== DATAFRAME INFO ===\")\n",
    "        print(f\"Shape: {df.shape}\")\n",
    "        print(f\"Columns: {list(df.columns)}\")\n",
    "        print(f\"\\nFirst few rows:\")\n",
    "        print(df.head())\n",
    "        \n",
    "        print(f\"\\nData types:\")\n",
    "        print(df.dtypes)\n",
    "        \n",
    "        print(f\"\\nBasic statistics:\")\n",
    "        print(df.describe())\n",
    "    else:\n",
    "        print(\"\\nCould not convert data to DataFrame. Raw data sample:\")\n",
    "        print(str(raw_data)[:500] + \"...\" if len(str(raw_data)) > 500 else str(raw_data))\n",
    "else:\n",
    "    print(\"No data to explore. Please ensure the API is accessible.\")"
   ]
  },
  {
   "cell_type": "markdown",
   "id": "216b0302",
   "metadata": {},
   "source": [
    "## 4. Prepare Data for Visualization\n",
    "\n",
    "Clean and format the data, convert timestamps, and structure the price and volume data for charting."
   ]
  },
  {
   "cell_type": "code",
   "execution_count": 4,
   "id": "64961aed",
   "metadata": {},
   "outputs": [
    {
     "name": "stdout",
     "output_type": "stream",
     "text": [
      "Identified price columns: ['tradedPricesAndVolume']\n",
      "Identified volume columns: []\n",
      "\n",
      "Data prepared successfully!\n",
      "Prepared DataFrame shape: (1, 2)\n"
     ]
    }
   ],
   "source": [
    "# Function to prepare data for visualization\n",
    "def prepare_data_for_visualization(df):\n",
    "    \"\"\"\n",
    "    Clean and prepare the data for visualization\n",
    "    \"\"\"\n",
    "    if df is None or df.empty:\n",
    "        return None\n",
    "    \n",
    "    # Make a copy to avoid modifying original data\n",
    "    viz_df = df.copy()\n",
    "    \n",
    "    # Common timestamp column names\n",
    "    timestamp_cols = ['timestamp', 'time', 'publishTime', 'lastPriceTraded', 'date', 'datetime']\n",
    "    time_col = None\n",
    "    \n",
    "    for col in timestamp_cols:\n",
    "        if col in viz_df.columns:\n",
    "            time_col = col\n",
    "            break\n",
    "    \n",
    "    # Convert timestamp columns\n",
    "    if time_col:\n",
    "        try:\n",
    "            # Try different timestamp formats\n",
    "            if viz_df[time_col].dtype == 'object':\n",
    "                # Try parsing as string timestamp\n",
    "                viz_df['datetime'] = pd.to_datetime(viz_df[time_col], errors='coerce')\n",
    "            elif viz_df[time_col].dtype in ['int64', 'float64']:\n",
    "                # Try parsing as Unix timestamp (seconds or milliseconds)\n",
    "                if viz_df[time_col].max() > 1e10:  # Likely milliseconds\n",
    "                    viz_df['datetime'] = pd.to_datetime(viz_df[time_col], unit='ms', errors='coerce')\n",
    "                else:  # Likely seconds\n",
    "                    viz_df['datetime'] = pd.to_datetime(viz_df[time_col], unit='s', errors='coerce')\n",
    "            \n",
    "            print(f\"Converted timestamp column '{time_col}' to datetime\")\n",
    "        except Exception as e:\n",
    "            print(f\"Error converting timestamp: {e}\")\n",
    "    \n",
    "    # Identify price and volume columns\n",
    "    price_cols = []\n",
    "    volume_cols = []\n",
    "    \n",
    "    for col in viz_df.columns:\n",
    "        col_lower = col.lower()\n",
    "        if any(price_word in col_lower for price_word in ['price', 'back', 'lay', 'ltp']):\n",
    "            price_cols.append(col)\n",
    "        elif any(vol_word in col_lower for vol_word in ['volume', 'size', 'amount', 'available']):\n",
    "            volume_cols.append(col)\n",
    "    \n",
    "    print(f\"Identified price columns: {price_cols}\")\n",
    "    print(f\"Identified volume columns: {volume_cols}\")\n",
    "    \n",
    "    # Convert price and volume columns to numeric\n",
    "    for col in price_cols + volume_cols:\n",
    "        viz_df[col] = pd.to_numeric(viz_df[col], errors='coerce')\n",
    "    \n",
    "    return viz_df, price_cols, volume_cols, time_col\n",
    "\n",
    "# Prepare the data\n",
    "if 'df' in locals() and df is not None:\n",
    "    prepared_data = prepare_data_for_visualization(df)\n",
    "    if prepared_data:\n",
    "        viz_df, price_cols, volume_cols, time_col = prepared_data\n",
    "        print(f\"\\nData prepared successfully!\")\n",
    "        print(f\"Prepared DataFrame shape: {viz_df.shape}\")\n",
    "        \n",
    "        # Show sample of prepared data\n",
    "        if 'datetime' in viz_df.columns:\n",
    "            viz_df_sample = viz_df.head()\n",
    "            print(f\"\\nSample of prepared data:\")\n",
    "            print(viz_df_sample)\n",
    "    else:\n",
    "        print(\"Failed to prepare data for visualization\")\n",
    "        viz_df = df\n",
    "        price_cols = []\n",
    "        volume_cols = []\n",
    "        time_col = None\n",
    "else:\n",
    "    print(\"No DataFrame available to prepare\")\n",
    "    viz_df = pd.DataFrame()\n",
    "    price_cols = []\n",
    "    volume_cols = []\n",
    "    time_col = None"
   ]
  },
  {
   "cell_type": "markdown",
   "id": "43b00c84",
   "metadata": {},
   "source": [
    "## 5. Create Price History Chart\n",
    "\n",
    "Generate a line chart showing the price movement over time using plotly, including back and lay prices."
   ]
  },
  {
   "cell_type": "code",
   "execution_count": 5,
   "id": "76c1ae69",
   "metadata": {},
   "outputs": [
    {
     "data": {
      "application/vnd.plotly.v1+json": {
       "config": {
        "plotlyServerURL": "https://plot.ly"
       },
       "data": [],
       "layout": {
        "height": 600,
        "hovermode": "x unified",
        "showlegend": true,
        "template": {
         "data": {
          "bar": [
           {
            "error_x": {
             "color": "#2a3f5f"
            },
            "error_y": {
             "color": "#2a3f5f"
            },
            "marker": {
             "line": {
              "color": "white",
              "width": 0.5
             },
             "pattern": {
              "fillmode": "overlay",
              "size": 10,
              "solidity": 0.2
             }
            },
            "type": "bar"
           }
          ],
          "barpolar": [
           {
            "marker": {
             "line": {
              "color": "white",
              "width": 0.5
             },
             "pattern": {
              "fillmode": "overlay",
              "size": 10,
              "solidity": 0.2
             }
            },
            "type": "barpolar"
           }
          ],
          "carpet": [
           {
            "aaxis": {
             "endlinecolor": "#2a3f5f",
             "gridcolor": "#C8D4E3",
             "linecolor": "#C8D4E3",
             "minorgridcolor": "#C8D4E3",
             "startlinecolor": "#2a3f5f"
            },
            "baxis": {
             "endlinecolor": "#2a3f5f",
             "gridcolor": "#C8D4E3",
             "linecolor": "#C8D4E3",
             "minorgridcolor": "#C8D4E3",
             "startlinecolor": "#2a3f5f"
            },
            "type": "carpet"
           }
          ],
          "choropleth": [
           {
            "colorbar": {
             "outlinewidth": 0,
             "ticks": ""
            },
            "type": "choropleth"
           }
          ],
          "contour": [
           {
            "colorbar": {
             "outlinewidth": 0,
             "ticks": ""
            },
            "colorscale": [
             [
              0,
              "#0d0887"
             ],
             [
              0.1111111111111111,
              "#46039f"
             ],
             [
              0.2222222222222222,
              "#7201a8"
             ],
             [
              0.3333333333333333,
              "#9c179e"
             ],
             [
              0.4444444444444444,
              "#bd3786"
             ],
             [
              0.5555555555555556,
              "#d8576b"
             ],
             [
              0.6666666666666666,
              "#ed7953"
             ],
             [
              0.7777777777777778,
              "#fb9f3a"
             ],
             [
              0.8888888888888888,
              "#fdca26"
             ],
             [
              1,
              "#f0f921"
             ]
            ],
            "type": "contour"
           }
          ],
          "contourcarpet": [
           {
            "colorbar": {
             "outlinewidth": 0,
             "ticks": ""
            },
            "type": "contourcarpet"
           }
          ],
          "heatmap": [
           {
            "colorbar": {
             "outlinewidth": 0,
             "ticks": ""
            },
            "colorscale": [
             [
              0,
              "#0d0887"
             ],
             [
              0.1111111111111111,
              "#46039f"
             ],
             [
              0.2222222222222222,
              "#7201a8"
             ],
             [
              0.3333333333333333,
              "#9c179e"
             ],
             [
              0.4444444444444444,
              "#bd3786"
             ],
             [
              0.5555555555555556,
              "#d8576b"
             ],
             [
              0.6666666666666666,
              "#ed7953"
             ],
             [
              0.7777777777777778,
              "#fb9f3a"
             ],
             [
              0.8888888888888888,
              "#fdca26"
             ],
             [
              1,
              "#f0f921"
             ]
            ],
            "type": "heatmap"
           }
          ],
          "histogram": [
           {
            "marker": {
             "pattern": {
              "fillmode": "overlay",
              "size": 10,
              "solidity": 0.2
             }
            },
            "type": "histogram"
           }
          ],
          "histogram2d": [
           {
            "colorbar": {
             "outlinewidth": 0,
             "ticks": ""
            },
            "colorscale": [
             [
              0,
              "#0d0887"
             ],
             [
              0.1111111111111111,
              "#46039f"
             ],
             [
              0.2222222222222222,
              "#7201a8"
             ],
             [
              0.3333333333333333,
              "#9c179e"
             ],
             [
              0.4444444444444444,
              "#bd3786"
             ],
             [
              0.5555555555555556,
              "#d8576b"
             ],
             [
              0.6666666666666666,
              "#ed7953"
             ],
             [
              0.7777777777777778,
              "#fb9f3a"
             ],
             [
              0.8888888888888888,
              "#fdca26"
             ],
             [
              1,
              "#f0f921"
             ]
            ],
            "type": "histogram2d"
           }
          ],
          "histogram2dcontour": [
           {
            "colorbar": {
             "outlinewidth": 0,
             "ticks": ""
            },
            "colorscale": [
             [
              0,
              "#0d0887"
             ],
             [
              0.1111111111111111,
              "#46039f"
             ],
             [
              0.2222222222222222,
              "#7201a8"
             ],
             [
              0.3333333333333333,
              "#9c179e"
             ],
             [
              0.4444444444444444,
              "#bd3786"
             ],
             [
              0.5555555555555556,
              "#d8576b"
             ],
             [
              0.6666666666666666,
              "#ed7953"
             ],
             [
              0.7777777777777778,
              "#fb9f3a"
             ],
             [
              0.8888888888888888,
              "#fdca26"
             ],
             [
              1,
              "#f0f921"
             ]
            ],
            "type": "histogram2dcontour"
           }
          ],
          "mesh3d": [
           {
            "colorbar": {
             "outlinewidth": 0,
             "ticks": ""
            },
            "type": "mesh3d"
           }
          ],
          "parcoords": [
           {
            "line": {
             "colorbar": {
              "outlinewidth": 0,
              "ticks": ""
             }
            },
            "type": "parcoords"
           }
          ],
          "pie": [
           {
            "automargin": true,
            "type": "pie"
           }
          ],
          "scatter": [
           {
            "fillpattern": {
             "fillmode": "overlay",
             "size": 10,
             "solidity": 0.2
            },
            "type": "scatter"
           }
          ],
          "scatter3d": [
           {
            "line": {
             "colorbar": {
              "outlinewidth": 0,
              "ticks": ""
             }
            },
            "marker": {
             "colorbar": {
              "outlinewidth": 0,
              "ticks": ""
             }
            },
            "type": "scatter3d"
           }
          ],
          "scattercarpet": [
           {
            "marker": {
             "colorbar": {
              "outlinewidth": 0,
              "ticks": ""
             }
            },
            "type": "scattercarpet"
           }
          ],
          "scattergeo": [
           {
            "marker": {
             "colorbar": {
              "outlinewidth": 0,
              "ticks": ""
             }
            },
            "type": "scattergeo"
           }
          ],
          "scattergl": [
           {
            "marker": {
             "colorbar": {
              "outlinewidth": 0,
              "ticks": ""
             }
            },
            "type": "scattergl"
           }
          ],
          "scattermap": [
           {
            "marker": {
             "colorbar": {
              "outlinewidth": 0,
              "ticks": ""
             }
            },
            "type": "scattermap"
           }
          ],
          "scattermapbox": [
           {
            "marker": {
             "colorbar": {
              "outlinewidth": 0,
              "ticks": ""
             }
            },
            "type": "scattermapbox"
           }
          ],
          "scatterpolar": [
           {
            "marker": {
             "colorbar": {
              "outlinewidth": 0,
              "ticks": ""
             }
            },
            "type": "scatterpolar"
           }
          ],
          "scatterpolargl": [
           {
            "marker": {
             "colorbar": {
              "outlinewidth": 0,
              "ticks": ""
             }
            },
            "type": "scatterpolargl"
           }
          ],
          "scatterternary": [
           {
            "marker": {
             "colorbar": {
              "outlinewidth": 0,
              "ticks": ""
             }
            },
            "type": "scatterternary"
           }
          ],
          "surface": [
           {
            "colorbar": {
             "outlinewidth": 0,
             "ticks": ""
            },
            "colorscale": [
             [
              0,
              "#0d0887"
             ],
             [
              0.1111111111111111,
              "#46039f"
             ],
             [
              0.2222222222222222,
              "#7201a8"
             ],
             [
              0.3333333333333333,
              "#9c179e"
             ],
             [
              0.4444444444444444,
              "#bd3786"
             ],
             [
              0.5555555555555556,
              "#d8576b"
             ],
             [
              0.6666666666666666,
              "#ed7953"
             ],
             [
              0.7777777777777778,
              "#fb9f3a"
             ],
             [
              0.8888888888888888,
              "#fdca26"
             ],
             [
              1,
              "#f0f921"
             ]
            ],
            "type": "surface"
           }
          ],
          "table": [
           {
            "cells": {
             "fill": {
              "color": "#EBF0F8"
             },
             "line": {
              "color": "white"
             }
            },
            "header": {
             "fill": {
              "color": "#C8D4E3"
             },
             "line": {
              "color": "white"
             }
            },
            "type": "table"
           }
          ]
         },
         "layout": {
          "annotationdefaults": {
           "arrowcolor": "#2a3f5f",
           "arrowhead": 0,
           "arrowwidth": 1
          },
          "autotypenumbers": "strict",
          "coloraxis": {
           "colorbar": {
            "outlinewidth": 0,
            "ticks": ""
           }
          },
          "colorscale": {
           "diverging": [
            [
             0,
             "#8e0152"
            ],
            [
             0.1,
             "#c51b7d"
            ],
            [
             0.2,
             "#de77ae"
            ],
            [
             0.3,
             "#f1b6da"
            ],
            [
             0.4,
             "#fde0ef"
            ],
            [
             0.5,
             "#f7f7f7"
            ],
            [
             0.6,
             "#e6f5d0"
            ],
            [
             0.7,
             "#b8e186"
            ],
            [
             0.8,
             "#7fbc41"
            ],
            [
             0.9,
             "#4d9221"
            ],
            [
             1,
             "#276419"
            ]
           ],
           "sequential": [
            [
             0,
             "#0d0887"
            ],
            [
             0.1111111111111111,
             "#46039f"
            ],
            [
             0.2222222222222222,
             "#7201a8"
            ],
            [
             0.3333333333333333,
             "#9c179e"
            ],
            [
             0.4444444444444444,
             "#bd3786"
            ],
            [
             0.5555555555555556,
             "#d8576b"
            ],
            [
             0.6666666666666666,
             "#ed7953"
            ],
            [
             0.7777777777777778,
             "#fb9f3a"
            ],
            [
             0.8888888888888888,
             "#fdca26"
            ],
            [
             1,
             "#f0f921"
            ]
           ],
           "sequentialminus": [
            [
             0,
             "#0d0887"
            ],
            [
             0.1111111111111111,
             "#46039f"
            ],
            [
             0.2222222222222222,
             "#7201a8"
            ],
            [
             0.3333333333333333,
             "#9c179e"
            ],
            [
             0.4444444444444444,
             "#bd3786"
            ],
            [
             0.5555555555555556,
             "#d8576b"
            ],
            [
             0.6666666666666666,
             "#ed7953"
            ],
            [
             0.7777777777777778,
             "#fb9f3a"
            ],
            [
             0.8888888888888888,
             "#fdca26"
            ],
            [
             1,
             "#f0f921"
            ]
           ]
          },
          "colorway": [
           "#636efa",
           "#EF553B",
           "#00cc96",
           "#ab63fa",
           "#FFA15A",
           "#19d3f3",
           "#FF6692",
           "#B6E880",
           "#FF97FF",
           "#FECB52"
          ],
          "font": {
           "color": "#2a3f5f"
          },
          "geo": {
           "bgcolor": "white",
           "lakecolor": "white",
           "landcolor": "white",
           "showlakes": true,
           "showland": true,
           "subunitcolor": "#C8D4E3"
          },
          "hoverlabel": {
           "align": "left"
          },
          "hovermode": "closest",
          "mapbox": {
           "style": "light"
          },
          "paper_bgcolor": "white",
          "plot_bgcolor": "white",
          "polar": {
           "angularaxis": {
            "gridcolor": "#EBF0F8",
            "linecolor": "#EBF0F8",
            "ticks": ""
           },
           "bgcolor": "white",
           "radialaxis": {
            "gridcolor": "#EBF0F8",
            "linecolor": "#EBF0F8",
            "ticks": ""
           }
          },
          "scene": {
           "xaxis": {
            "backgroundcolor": "white",
            "gridcolor": "#DFE8F3",
            "gridwidth": 2,
            "linecolor": "#EBF0F8",
            "showbackground": true,
            "ticks": "",
            "zerolinecolor": "#EBF0F8"
           },
           "yaxis": {
            "backgroundcolor": "white",
            "gridcolor": "#DFE8F3",
            "gridwidth": 2,
            "linecolor": "#EBF0F8",
            "showbackground": true,
            "ticks": "",
            "zerolinecolor": "#EBF0F8"
           },
           "zaxis": {
            "backgroundcolor": "white",
            "gridcolor": "#DFE8F3",
            "gridwidth": 2,
            "linecolor": "#EBF0F8",
            "showbackground": true,
            "ticks": "",
            "zerolinecolor": "#EBF0F8"
           }
          },
          "shapedefaults": {
           "line": {
            "color": "#2a3f5f"
           }
          },
          "ternary": {
           "aaxis": {
            "gridcolor": "#DFE8F3",
            "linecolor": "#A2B1C6",
            "ticks": ""
           },
           "baxis": {
            "gridcolor": "#DFE8F3",
            "linecolor": "#A2B1C6",
            "ticks": ""
           },
           "bgcolor": "white",
           "caxis": {
            "gridcolor": "#DFE8F3",
            "linecolor": "#A2B1C6",
            "ticks": ""
           }
          },
          "title": {
           "x": 0.05
          },
          "xaxis": {
           "automargin": true,
           "gridcolor": "#EBF0F8",
           "linecolor": "#EBF0F8",
           "ticks": "",
           "title": {
            "standoff": 15
           },
           "zerolinecolor": "#EBF0F8",
           "zerolinewidth": 2
          },
          "yaxis": {
           "automargin": true,
           "gridcolor": "#EBF0F8",
           "linecolor": "#EBF0F8",
           "ticks": "",
           "title": {
            "standoff": 15
           },
           "zerolinecolor": "#EBF0F8",
           "zerolinewidth": 2
          }
         }
        },
        "title": {
         "text": "Betfair Price History - Market 1.244137767"
        },
        "xaxis": {
         "title": {
          "text": "Time"
         }
        },
        "yaxis": {
         "title": {
          "text": "Price"
         }
        }
       }
      }
     },
     "metadata": {},
     "output_type": "display_data"
    },
    {
     "name": "stdout",
     "output_type": "stream",
     "text": [
      "Price history chart created successfully!\n"
     ]
    }
   ],
   "source": [
    "# Create price history chart\n",
    "def create_price_history_chart(df, price_cols, time_col):\n",
    "    \"\"\"\n",
    "    Create an interactive price history chart using Plotly\n",
    "    \"\"\"\n",
    "    if df.empty or not price_cols:\n",
    "        print(\"No price data available for charting\")\n",
    "        return None\n",
    "    \n",
    "    # Use datetime column if available, otherwise use index\n",
    "    x_axis = df['datetime'] if 'datetime' in df.columns else df.index\n",
    "    \n",
    "    fig = go.Figure()\n",
    "    \n",
    "    # Add price lines\n",
    "    colors = px.colors.qualitative.Set1\n",
    "    for i, col in enumerate(price_cols[:6]):  # Limit to 6 lines for readability\n",
    "        if not df[col].isna().all():\n",
    "            fig.add_trace(go.Scatter(\n",
    "                x=x_axis,\n",
    "                y=df[col],\n",
    "                mode='lines+markers',\n",
    "                name=col,\n",
    "                line=dict(color=colors[i % len(colors)], width=2),\n",
    "                marker=dict(size=4)\n",
    "            ))\n",
    "    \n",
    "    fig.update_layout(\n",
    "        title=f'Betfair Price History - Market {MARKET_ID}',\n",
    "        xaxis_title='Time',\n",
    "        yaxis_title='Price',\n",
    "        hovermode='x unified',\n",
    "        template='plotly_white',\n",
    "        height=600,\n",
    "        showlegend=True\n",
    "    )\n",
    "    \n",
    "    return fig\n",
    "\n",
    "# Generate price history chart\n",
    "if not viz_df.empty and price_cols:\n",
    "    price_fig = create_price_history_chart(viz_df, price_cols, time_col)\n",
    "    if price_fig:\n",
    "        price_fig.show()\n",
    "        print(\"Price history chart created successfully!\")\n",
    "    else:\n",
    "        print(\"Failed to create price history chart\")\n",
    "else:\n",
    "    print(\"Creating sample price chart with dummy data...\")\n",
    "    \n",
    "    # Create sample data for demonstration\n",
    "    sample_dates = pd.date_range(start='2024-01-01', periods=100, freq='5min')\n",
    "    sample_data = {\n",
    "        'datetime': sample_dates,\n",
    "        'back_price_1': np.random.normal(2.5, 0.1, 100).cumsum() + np.random.normal(0, 0.05, 100),\n",
    "        'lay_price_1': np.random.normal(2.6, 0.1, 100).cumsum() + np.random.normal(0, 0.05, 100),\n",
    "        'last_traded_price': np.random.normal(2.55, 0.1, 100).cumsum() + np.random.normal(0, 0.05, 100)\n",
    "    }\n",
    "    \n",
    "    sample_df = pd.DataFrame(sample_data)\n",
    "    sample_price_cols = ['back_price_1', 'lay_price_1', 'last_traded_price']\n",
    "    \n",
    "    sample_fig = create_price_history_chart(sample_df, sample_price_cols, 'datetime')\n",
    "    if sample_fig:\n",
    "        sample_fig.update_layout(title='Sample Betfair Price History (Demo Data)')\n",
    "        sample_fig.show()\n",
    "        print(\"Sample price chart created for demonstration!\")"
   ]
  },
  {
   "cell_type": "markdown",
   "id": "60b45c72",
   "metadata": {},
   "source": [
    "## 6. Create Volume Analysis Chart\n",
    "\n",
    "Create bar charts or heatmaps to visualize trading volume and liquidity at different price levels."
   ]
  },
  {
   "cell_type": "code",
   "execution_count": 6,
   "id": "5b3bc713",
   "metadata": {},
   "outputs": [
    {
     "data": {
      "application/vnd.plotly.v1+json": {
       "config": {
        "plotlyServerURL": "https://plot.ly"
       },
       "data": [],
       "layout": {
        "annotations": [
         {
          "font": {
           "size": 16
          },
          "showarrow": false,
          "text": "Volume Over Time",
          "x": 0.5,
          "xanchor": "center",
          "xref": "paper",
          "y": 1,
          "yanchor": "bottom",
          "yref": "paper"
         },
         {
          "font": {
           "size": 16
          },
          "showarrow": false,
          "text": "Price vs Volume Scatter",
          "x": 0.5,
          "xanchor": "center",
          "xref": "paper",
          "y": 0.36000000000000004,
          "yanchor": "bottom",
          "yref": "paper"
         }
        ],
        "height": 800,
        "showlegend": true,
        "template": {
         "data": {
          "bar": [
           {
            "error_x": {
             "color": "#2a3f5f"
            },
            "error_y": {
             "color": "#2a3f5f"
            },
            "marker": {
             "line": {
              "color": "white",
              "width": 0.5
             },
             "pattern": {
              "fillmode": "overlay",
              "size": 10,
              "solidity": 0.2
             }
            },
            "type": "bar"
           }
          ],
          "barpolar": [
           {
            "marker": {
             "line": {
              "color": "white",
              "width": 0.5
             },
             "pattern": {
              "fillmode": "overlay",
              "size": 10,
              "solidity": 0.2
             }
            },
            "type": "barpolar"
           }
          ],
          "carpet": [
           {
            "aaxis": {
             "endlinecolor": "#2a3f5f",
             "gridcolor": "#C8D4E3",
             "linecolor": "#C8D4E3",
             "minorgridcolor": "#C8D4E3",
             "startlinecolor": "#2a3f5f"
            },
            "baxis": {
             "endlinecolor": "#2a3f5f",
             "gridcolor": "#C8D4E3",
             "linecolor": "#C8D4E3",
             "minorgridcolor": "#C8D4E3",
             "startlinecolor": "#2a3f5f"
            },
            "type": "carpet"
           }
          ],
          "choropleth": [
           {
            "colorbar": {
             "outlinewidth": 0,
             "ticks": ""
            },
            "type": "choropleth"
           }
          ],
          "contour": [
           {
            "colorbar": {
             "outlinewidth": 0,
             "ticks": ""
            },
            "colorscale": [
             [
              0,
              "#0d0887"
             ],
             [
              0.1111111111111111,
              "#46039f"
             ],
             [
              0.2222222222222222,
              "#7201a8"
             ],
             [
              0.3333333333333333,
              "#9c179e"
             ],
             [
              0.4444444444444444,
              "#bd3786"
             ],
             [
              0.5555555555555556,
              "#d8576b"
             ],
             [
              0.6666666666666666,
              "#ed7953"
             ],
             [
              0.7777777777777778,
              "#fb9f3a"
             ],
             [
              0.8888888888888888,
              "#fdca26"
             ],
             [
              1,
              "#f0f921"
             ]
            ],
            "type": "contour"
           }
          ],
          "contourcarpet": [
           {
            "colorbar": {
             "outlinewidth": 0,
             "ticks": ""
            },
            "type": "contourcarpet"
           }
          ],
          "heatmap": [
           {
            "colorbar": {
             "outlinewidth": 0,
             "ticks": ""
            },
            "colorscale": [
             [
              0,
              "#0d0887"
             ],
             [
              0.1111111111111111,
              "#46039f"
             ],
             [
              0.2222222222222222,
              "#7201a8"
             ],
             [
              0.3333333333333333,
              "#9c179e"
             ],
             [
              0.4444444444444444,
              "#bd3786"
             ],
             [
              0.5555555555555556,
              "#d8576b"
             ],
             [
              0.6666666666666666,
              "#ed7953"
             ],
             [
              0.7777777777777778,
              "#fb9f3a"
             ],
             [
              0.8888888888888888,
              "#fdca26"
             ],
             [
              1,
              "#f0f921"
             ]
            ],
            "type": "heatmap"
           }
          ],
          "histogram": [
           {
            "marker": {
             "pattern": {
              "fillmode": "overlay",
              "size": 10,
              "solidity": 0.2
             }
            },
            "type": "histogram"
           }
          ],
          "histogram2d": [
           {
            "colorbar": {
             "outlinewidth": 0,
             "ticks": ""
            },
            "colorscale": [
             [
              0,
              "#0d0887"
             ],
             [
              0.1111111111111111,
              "#46039f"
             ],
             [
              0.2222222222222222,
              "#7201a8"
             ],
             [
              0.3333333333333333,
              "#9c179e"
             ],
             [
              0.4444444444444444,
              "#bd3786"
             ],
             [
              0.5555555555555556,
              "#d8576b"
             ],
             [
              0.6666666666666666,
              "#ed7953"
             ],
             [
              0.7777777777777778,
              "#fb9f3a"
             ],
             [
              0.8888888888888888,
              "#fdca26"
             ],
             [
              1,
              "#f0f921"
             ]
            ],
            "type": "histogram2d"
           }
          ],
          "histogram2dcontour": [
           {
            "colorbar": {
             "outlinewidth": 0,
             "ticks": ""
            },
            "colorscale": [
             [
              0,
              "#0d0887"
             ],
             [
              0.1111111111111111,
              "#46039f"
             ],
             [
              0.2222222222222222,
              "#7201a8"
             ],
             [
              0.3333333333333333,
              "#9c179e"
             ],
             [
              0.4444444444444444,
              "#bd3786"
             ],
             [
              0.5555555555555556,
              "#d8576b"
             ],
             [
              0.6666666666666666,
              "#ed7953"
             ],
             [
              0.7777777777777778,
              "#fb9f3a"
             ],
             [
              0.8888888888888888,
              "#fdca26"
             ],
             [
              1,
              "#f0f921"
             ]
            ],
            "type": "histogram2dcontour"
           }
          ],
          "mesh3d": [
           {
            "colorbar": {
             "outlinewidth": 0,
             "ticks": ""
            },
            "type": "mesh3d"
           }
          ],
          "parcoords": [
           {
            "line": {
             "colorbar": {
              "outlinewidth": 0,
              "ticks": ""
             }
            },
            "type": "parcoords"
           }
          ],
          "pie": [
           {
            "automargin": true,
            "type": "pie"
           }
          ],
          "scatter": [
           {
            "fillpattern": {
             "fillmode": "overlay",
             "size": 10,
             "solidity": 0.2
            },
            "type": "scatter"
           }
          ],
          "scatter3d": [
           {
            "line": {
             "colorbar": {
              "outlinewidth": 0,
              "ticks": ""
             }
            },
            "marker": {
             "colorbar": {
              "outlinewidth": 0,
              "ticks": ""
             }
            },
            "type": "scatter3d"
           }
          ],
          "scattercarpet": [
           {
            "marker": {
             "colorbar": {
              "outlinewidth": 0,
              "ticks": ""
             }
            },
            "type": "scattercarpet"
           }
          ],
          "scattergeo": [
           {
            "marker": {
             "colorbar": {
              "outlinewidth": 0,
              "ticks": ""
             }
            },
            "type": "scattergeo"
           }
          ],
          "scattergl": [
           {
            "marker": {
             "colorbar": {
              "outlinewidth": 0,
              "ticks": ""
             }
            },
            "type": "scattergl"
           }
          ],
          "scattermap": [
           {
            "marker": {
             "colorbar": {
              "outlinewidth": 0,
              "ticks": ""
             }
            },
            "type": "scattermap"
           }
          ],
          "scattermapbox": [
           {
            "marker": {
             "colorbar": {
              "outlinewidth": 0,
              "ticks": ""
             }
            },
            "type": "scattermapbox"
           }
          ],
          "scatterpolar": [
           {
            "marker": {
             "colorbar": {
              "outlinewidth": 0,
              "ticks": ""
             }
            },
            "type": "scatterpolar"
           }
          ],
          "scatterpolargl": [
           {
            "marker": {
             "colorbar": {
              "outlinewidth": 0,
              "ticks": ""
             }
            },
            "type": "scatterpolargl"
           }
          ],
          "scatterternary": [
           {
            "marker": {
             "colorbar": {
              "outlinewidth": 0,
              "ticks": ""
             }
            },
            "type": "scatterternary"
           }
          ],
          "surface": [
           {
            "colorbar": {
             "outlinewidth": 0,
             "ticks": ""
            },
            "colorscale": [
             [
              0,
              "#0d0887"
             ],
             [
              0.1111111111111111,
              "#46039f"
             ],
             [
              0.2222222222222222,
              "#7201a8"
             ],
             [
              0.3333333333333333,
              "#9c179e"
             ],
             [
              0.4444444444444444,
              "#bd3786"
             ],
             [
              0.5555555555555556,
              "#d8576b"
             ],
             [
              0.6666666666666666,
              "#ed7953"
             ],
             [
              0.7777777777777778,
              "#fb9f3a"
             ],
             [
              0.8888888888888888,
              "#fdca26"
             ],
             [
              1,
              "#f0f921"
             ]
            ],
            "type": "surface"
           }
          ],
          "table": [
           {
            "cells": {
             "fill": {
              "color": "#EBF0F8"
             },
             "line": {
              "color": "white"
             }
            },
            "header": {
             "fill": {
              "color": "#C8D4E3"
             },
             "line": {
              "color": "white"
             }
            },
            "type": "table"
           }
          ]
         },
         "layout": {
          "annotationdefaults": {
           "arrowcolor": "#2a3f5f",
           "arrowhead": 0,
           "arrowwidth": 1
          },
          "autotypenumbers": "strict",
          "coloraxis": {
           "colorbar": {
            "outlinewidth": 0,
            "ticks": ""
           }
          },
          "colorscale": {
           "diverging": [
            [
             0,
             "#8e0152"
            ],
            [
             0.1,
             "#c51b7d"
            ],
            [
             0.2,
             "#de77ae"
            ],
            [
             0.3,
             "#f1b6da"
            ],
            [
             0.4,
             "#fde0ef"
            ],
            [
             0.5,
             "#f7f7f7"
            ],
            [
             0.6,
             "#e6f5d0"
            ],
            [
             0.7,
             "#b8e186"
            ],
            [
             0.8,
             "#7fbc41"
            ],
            [
             0.9,
             "#4d9221"
            ],
            [
             1,
             "#276419"
            ]
           ],
           "sequential": [
            [
             0,
             "#0d0887"
            ],
            [
             0.1111111111111111,
             "#46039f"
            ],
            [
             0.2222222222222222,
             "#7201a8"
            ],
            [
             0.3333333333333333,
             "#9c179e"
            ],
            [
             0.4444444444444444,
             "#bd3786"
            ],
            [
             0.5555555555555556,
             "#d8576b"
            ],
            [
             0.6666666666666666,
             "#ed7953"
            ],
            [
             0.7777777777777778,
             "#fb9f3a"
            ],
            [
             0.8888888888888888,
             "#fdca26"
            ],
            [
             1,
             "#f0f921"
            ]
           ],
           "sequentialminus": [
            [
             0,
             "#0d0887"
            ],
            [
             0.1111111111111111,
             "#46039f"
            ],
            [
             0.2222222222222222,
             "#7201a8"
            ],
            [
             0.3333333333333333,
             "#9c179e"
            ],
            [
             0.4444444444444444,
             "#bd3786"
            ],
            [
             0.5555555555555556,
             "#d8576b"
            ],
            [
             0.6666666666666666,
             "#ed7953"
            ],
            [
             0.7777777777777778,
             "#fb9f3a"
            ],
            [
             0.8888888888888888,
             "#fdca26"
            ],
            [
             1,
             "#f0f921"
            ]
           ]
          },
          "colorway": [
           "#636efa",
           "#EF553B",
           "#00cc96",
           "#ab63fa",
           "#FFA15A",
           "#19d3f3",
           "#FF6692",
           "#B6E880",
           "#FF97FF",
           "#FECB52"
          ],
          "font": {
           "color": "#2a3f5f"
          },
          "geo": {
           "bgcolor": "white",
           "lakecolor": "white",
           "landcolor": "white",
           "showlakes": true,
           "showland": true,
           "subunitcolor": "#C8D4E3"
          },
          "hoverlabel": {
           "align": "left"
          },
          "hovermode": "closest",
          "mapbox": {
           "style": "light"
          },
          "paper_bgcolor": "white",
          "plot_bgcolor": "white",
          "polar": {
           "angularaxis": {
            "gridcolor": "#EBF0F8",
            "linecolor": "#EBF0F8",
            "ticks": ""
           },
           "bgcolor": "white",
           "radialaxis": {
            "gridcolor": "#EBF0F8",
            "linecolor": "#EBF0F8",
            "ticks": ""
           }
          },
          "scene": {
           "xaxis": {
            "backgroundcolor": "white",
            "gridcolor": "#DFE8F3",
            "gridwidth": 2,
            "linecolor": "#EBF0F8",
            "showbackground": true,
            "ticks": "",
            "zerolinecolor": "#EBF0F8"
           },
           "yaxis": {
            "backgroundcolor": "white",
            "gridcolor": "#DFE8F3",
            "gridwidth": 2,
            "linecolor": "#EBF0F8",
            "showbackground": true,
            "ticks": "",
            "zerolinecolor": "#EBF0F8"
           },
           "zaxis": {
            "backgroundcolor": "white",
            "gridcolor": "#DFE8F3",
            "gridwidth": 2,
            "linecolor": "#EBF0F8",
            "showbackground": true,
            "ticks": "",
            "zerolinecolor": "#EBF0F8"
           }
          },
          "shapedefaults": {
           "line": {
            "color": "#2a3f5f"
           }
          },
          "ternary": {
           "aaxis": {
            "gridcolor": "#DFE8F3",
            "linecolor": "#A2B1C6",
            "ticks": ""
           },
           "baxis": {
            "gridcolor": "#DFE8F3",
            "linecolor": "#A2B1C6",
            "ticks": ""
           },
           "bgcolor": "white",
           "caxis": {
            "gridcolor": "#DFE8F3",
            "linecolor": "#A2B1C6",
            "ticks": ""
           }
          },
          "title": {
           "x": 0.05
          },
          "xaxis": {
           "automargin": true,
           "gridcolor": "#EBF0F8",
           "linecolor": "#EBF0F8",
           "ticks": "",
           "title": {
            "standoff": 15
           },
           "zerolinecolor": "#EBF0F8",
           "zerolinewidth": 2
          },
          "yaxis": {
           "automargin": true,
           "gridcolor": "#EBF0F8",
           "linecolor": "#EBF0F8",
           "ticks": "",
           "title": {
            "standoff": 15
           },
           "zerolinecolor": "#EBF0F8",
           "zerolinewidth": 2
          }
         }
        },
        "title": {
         "text": "Volume Analysis - Market 1.244137767"
        },
        "xaxis": {
         "anchor": "y",
         "domain": [
          0,
          1
         ],
         "title": {
          "text": "Time"
         }
        },
        "xaxis2": {
         "anchor": "y2",
         "domain": [
          0,
          1
         ],
         "title": {
          "text": "Price"
         }
        },
        "yaxis": {
         "anchor": "x",
         "domain": [
          0.4600000000000001,
          1
         ],
         "title": {
          "text": "Volume"
         }
        },
        "yaxis2": {
         "anchor": "x2",
         "domain": [
          0,
          0.36000000000000004
         ],
         "title": {
          "text": "Volume"
         }
        }
       }
      }
     },
     "metadata": {},
     "output_type": "display_data"
    },
    {
     "name": "stdout",
     "output_type": "stream",
     "text": [
      "Volume analysis chart created successfully!\n"
     ]
    }
   ],
   "source": [
    "# Create volume analysis chart\n",
    "def create_volume_analysis_chart(df, volume_cols, price_cols, time_col):\n",
    "    \"\"\"\n",
    "    Create volume analysis charts using Plotly\n",
    "    \"\"\"\n",
    "    if df.empty:\n",
    "        print(\"No data available for volume analysis\")\n",
    "        return None\n",
    "    \n",
    "    # Create subplots for volume analysis\n",
    "    fig = make_subplots(\n",
    "        rows=2, cols=1,\n",
    "        subplot_titles=('Volume Over Time', 'Price vs Volume Scatter'),\n",
    "        vertical_spacing=0.1,\n",
    "        row_heights=[0.6, 0.4]\n",
    "    )\n",
    "    \n",
    "    x_axis = df['datetime'] if 'datetime' in df.columns else df.index\n",
    "    \n",
    "    # Volume over time\n",
    "    if volume_cols:\n",
    "        colors = px.colors.qualitative.Set2\n",
    "        for i, col in enumerate(volume_cols[:4]):  # Limit to 4 volume series\n",
    "            if not df[col].isna().all():\n",
    "                fig.add_trace(\n",
    "                    go.Bar(\n",
    "                        x=x_axis,\n",
    "                        y=df[col],\n",
    "                        name=f'{col}',\n",
    "                        marker_color=colors[i % len(colors)],\n",
    "                        opacity=0.7\n",
    "                    ),\n",
    "                    row=1, col=1\n",
    "                )\n",
    "    \n",
    "    # Price vs Volume scatter (if we have both)\n",
    "    if price_cols and volume_cols:\n",
    "        price_col = price_cols[0]  # Use first price column\n",
    "        volume_col = volume_cols[0]  # Use first volume column\n",
    "        \n",
    "        if not df[price_col].isna().all() and not df[volume_col].isna().all():\n",
    "            fig.add_trace(\n",
    "                go.Scatter(\n",
    "                    x=df[price_col],\n",
    "                    y=df[volume_col],\n",
    "                    mode='markers',\n",
    "                    name=f'{volume_col} vs {price_col}',\n",
    "                    marker=dict(\n",
    "                        size=8,\n",
    "                        color=df.index,\n",
    "                        colorscale='Viridis',\n",
    "                        showscale=True,\n",
    "                        colorbar=dict(title=\"Time Sequence\")\n",
    "                    )\n",
    "                ),\n",
    "                row=2, col=1\n",
    "            )\n",
    "    \n",
    "    fig.update_layout(\n",
    "        title=f'Volume Analysis - Market {MARKET_ID}',\n",
    "        height=800,\n",
    "        showlegend=True,\n",
    "        template='plotly_white'\n",
    "    )\n",
    "    \n",
    "    # Update axes labels\n",
    "    fig.update_xaxes(title_text=\"Time\", row=1, col=1)\n",
    "    fig.update_yaxes(title_text=\"Volume\", row=1, col=1)\n",
    "    fig.update_xaxes(title_text=\"Price\", row=2, col=1)\n",
    "    fig.update_yaxes(title_text=\"Volume\", row=2, col=1)\n",
    "    \n",
    "    return fig\n",
    "\n",
    "# Generate volume analysis chart\n",
    "if not viz_df.empty and (volume_cols or price_cols):\n",
    "    volume_fig = create_volume_analysis_chart(viz_df, volume_cols, price_cols, time_col)\n",
    "    if volume_fig:\n",
    "        volume_fig.show()\n",
    "        print(\"Volume analysis chart created successfully!\")\n",
    "    else:\n",
    "        print(\"Failed to create volume analysis chart\")\n",
    "else:\n",
    "    print(\"Creating sample volume analysis chart with dummy data...\")\n",
    "    \n",
    "    # Create sample data for demonstration\n",
    "    sample_dates = pd.date_range(start='2024-01-01', periods=50, freq='10min')\n",
    "    sample_volume_data = {\n",
    "        'datetime': sample_dates,\n",
    "        'back_volume_1': np.random.exponential(1000, 50),\n",
    "        'lay_volume_1': np.random.exponential(800, 50),\n",
    "        'total_matched': np.random.exponential(1500, 50),\n",
    "        'price': np.random.normal(2.5, 0.2, 50)\n",
    "    }\n",
    "    \n",
    "    sample_vol_df = pd.DataFrame(sample_volume_data)\n",
    "    sample_volume_cols = ['back_volume_1', 'lay_volume_1', 'total_matched']\n",
    "    sample_price_cols_vol = ['price']\n",
    "    \n",
    "    sample_vol_fig = create_volume_analysis_chart(sample_vol_df, sample_volume_cols, sample_price_cols_vol, 'datetime')\n",
    "    if sample_vol_fig:\n",
    "        sample_vol_fig.update_layout(title='Sample Volume Analysis (Demo Data)')\n",
    "        sample_vol_fig.show()\n",
    "        print(\"Sample volume analysis chart created for demonstration!\")"
   ]
  },
  {
   "cell_type": "markdown",
   "id": "d806e268",
   "metadata": {},
   "source": [
    "## 7. Create Multiple Selection Comparison\n",
    "\n",
    "Build comparative charts to analyze multiple selections within the same market, showing relative price movements."
   ]
  },
  {
   "cell_type": "code",
   "execution_count": 7,
   "id": "c4245d2b",
   "metadata": {},
   "outputs": [
    {
     "name": "stdout",
     "output_type": "stream",
     "text": [
      "Loading multiple selections for market 1.244137767...\n",
      "Note: This will attempt to load data for multiple selections.\n",
      "If the API doesn't have data for some selections, they will be skipped.\n",
      "\n",
      "Creating sample multi-selection comparison chart...\n"
     ]
    },
    {
     "data": {
      "application/vnd.plotly.v1+json": {
       "config": {
        "plotlyServerURL": "https://plot.ly"
       },
       "data": [
        {
         "line": {
          "color": "#1f77b4",
          "width": 3
         },
         "marker": {
          "size": 5
         },
         "mode": "lines+markers",
         "name": "Selection_A",
         "type": "scatter",
         "x": [
          "2024-01-01T00:00:00.000000000",
          "2024-01-01T00:03:00.000000000",
          "2024-01-01T00:06:00.000000000",
          "2024-01-01T00:09:00.000000000",
          "2024-01-01T00:12:00.000000000",
          "2024-01-01T00:15:00.000000000",
          "2024-01-01T00:18:00.000000000",
          "2024-01-01T00:21:00.000000000",
          "2024-01-01T00:24:00.000000000",
          "2024-01-01T00:27:00.000000000",
          "2024-01-01T00:30:00.000000000",
          "2024-01-01T00:33:00.000000000",
          "2024-01-01T00:36:00.000000000",
          "2024-01-01T00:39:00.000000000",
          "2024-01-01T00:42:00.000000000",
          "2024-01-01T00:45:00.000000000",
          "2024-01-01T00:48:00.000000000",
          "2024-01-01T00:51:00.000000000",
          "2024-01-01T00:54:00.000000000",
          "2024-01-01T00:57:00.000000000",
          "2024-01-01T01:00:00.000000000",
          "2024-01-01T01:03:00.000000000",
          "2024-01-01T01:06:00.000000000",
          "2024-01-01T01:09:00.000000000",
          "2024-01-01T01:12:00.000000000",
          "2024-01-01T01:15:00.000000000",
          "2024-01-01T01:18:00.000000000",
          "2024-01-01T01:21:00.000000000",
          "2024-01-01T01:24:00.000000000",
          "2024-01-01T01:27:00.000000000",
          "2024-01-01T01:30:00.000000000",
          "2024-01-01T01:33:00.000000000",
          "2024-01-01T01:36:00.000000000",
          "2024-01-01T01:39:00.000000000",
          "2024-01-01T01:42:00.000000000",
          "2024-01-01T01:45:00.000000000",
          "2024-01-01T01:48:00.000000000",
          "2024-01-01T01:51:00.000000000",
          "2024-01-01T01:54:00.000000000",
          "2024-01-01T01:57:00.000000000",
          "2024-01-01T02:00:00.000000000",
          "2024-01-01T02:03:00.000000000",
          "2024-01-01T02:06:00.000000000",
          "2024-01-01T02:09:00.000000000",
          "2024-01-01T02:12:00.000000000",
          "2024-01-01T02:15:00.000000000",
          "2024-01-01T02:18:00.000000000",
          "2024-01-01T02:21:00.000000000",
          "2024-01-01T02:24:00.000000000",
          "2024-01-01T02:27:00.000000000",
          "2024-01-01T02:30:00.000000000",
          "2024-01-01T02:33:00.000000000",
          "2024-01-01T02:36:00.000000000",
          "2024-01-01T02:39:00.000000000",
          "2024-01-01T02:42:00.000000000",
          "2024-01-01T02:45:00.000000000",
          "2024-01-01T02:48:00.000000000",
          "2024-01-01T02:51:00.000000000",
          "2024-01-01T02:54:00.000000000",
          "2024-01-01T02:57:00.000000000",
          "2024-01-01T03:00:00.000000000",
          "2024-01-01T03:03:00.000000000",
          "2024-01-01T03:06:00.000000000",
          "2024-01-01T03:09:00.000000000",
          "2024-01-01T03:12:00.000000000",
          "2024-01-01T03:15:00.000000000",
          "2024-01-01T03:18:00.000000000",
          "2024-01-01T03:21:00.000000000",
          "2024-01-01T03:24:00.000000000",
          "2024-01-01T03:27:00.000000000",
          "2024-01-01T03:30:00.000000000",
          "2024-01-01T03:33:00.000000000",
          "2024-01-01T03:36:00.000000000",
          "2024-01-01T03:39:00.000000000",
          "2024-01-01T03:42:00.000000000",
          "2024-01-01T03:45:00.000000000",
          "2024-01-01T03:48:00.000000000",
          "2024-01-01T03:51:00.000000000",
          "2024-01-01T03:54:00.000000000",
          "2024-01-01T03:57:00.000000000"
         ],
         "y": {
          "bdata": "UgW+3o0uAEDrgv0R928AQC/9hgT/dABAxwUEQcOiAEAvN6dErIcAQBlvJPDg2gBAZej/E868AED2JxUKQXcAQG/FooBwigBAz5DoFFyVAEBEUkHSatMAQMjUsxSc3QBA+ffKv+PFAEBvBgiCFdIAQKclkPVhswBAdFKyMpSvAEB/WRorGbgAQFmjARjBiwBAhbB2OSeOAEBMoVl5T4MAQOto9G0QogBA/kQI7xmAAEAaNsYj7kQAQB6wKnJgGQBAd78Uk5q8/z+jRm+kwuH/Py4bd4LoIABAieXND4EsAECZjr4LIUsAQNIZAKKFQgBAY+CVCmQkAEBL3mucMQgAQJNPfUrsAwBA0s5ZGjnO/z9QItGhZdb/Pwobr3d1RABAqhF3HJKTAED+z4a9/aQAQDjnG4IKmQBADpZ3/bqfAEDMc7dToeQAQLB+etJFtABAofn1kkt4AECrYz2BDGwAQDVsT605TgBAQkCfW1BqAECdAxl9ApIAQKMBi29FcQBA3cEkYI5xAEBWLEtd0UgAQLp7gnxCQwBAao1LitdGAEBnr7ox0kUAQAnpAXNAPwBAsWlpPL0/AEAnAMIkclAAQI2SXi5wQgBA91ETA49WAEACM5pwnTkAQBDLWucqNwBAL3trNGcRAEBpxM2NQRYAQCfF09iGOgBADdiwa1cZAECdfMjYwNr/P8o8RKfe8v4/E8a+7p7y/j8WI8OWj9n+P6tRSNgWnv8/GHl1t4aY/z/ZBO/v1kL/PzZpYBS0+P4/cZtV4AxO/j9XzXMMAJf+P1sbgqAqKv4/5dt0bGty/j+RFY58OdL+Pyn38Zf+8v4/sxku9CGS/j+6SLOYGIv+Pw==",
          "dtype": "f8"
         }
        },
        {
         "line": {
          "color": "#ff7f0e",
          "width": 3
         },
         "marker": {
          "size": 5
         },
         "mode": "lines+markers",
         "name": "Selection_B",
         "type": "scatter",
         "x": [
          "2024-01-01T00:00:00.000000000",
          "2024-01-01T00:03:00.000000000",
          "2024-01-01T00:06:00.000000000",
          "2024-01-01T00:09:00.000000000",
          "2024-01-01T00:12:00.000000000",
          "2024-01-01T00:15:00.000000000",
          "2024-01-01T00:18:00.000000000",
          "2024-01-01T00:21:00.000000000",
          "2024-01-01T00:24:00.000000000",
          "2024-01-01T00:27:00.000000000",
          "2024-01-01T00:30:00.000000000",
          "2024-01-01T00:33:00.000000000",
          "2024-01-01T00:36:00.000000000",
          "2024-01-01T00:39:00.000000000",
          "2024-01-01T00:42:00.000000000",
          "2024-01-01T00:45:00.000000000",
          "2024-01-01T00:48:00.000000000",
          "2024-01-01T00:51:00.000000000",
          "2024-01-01T00:54:00.000000000",
          "2024-01-01T00:57:00.000000000",
          "2024-01-01T01:00:00.000000000",
          "2024-01-01T01:03:00.000000000",
          "2024-01-01T01:06:00.000000000",
          "2024-01-01T01:09:00.000000000",
          "2024-01-01T01:12:00.000000000",
          "2024-01-01T01:15:00.000000000",
          "2024-01-01T01:18:00.000000000",
          "2024-01-01T01:21:00.000000000",
          "2024-01-01T01:24:00.000000000",
          "2024-01-01T01:27:00.000000000",
          "2024-01-01T01:30:00.000000000",
          "2024-01-01T01:33:00.000000000",
          "2024-01-01T01:36:00.000000000",
          "2024-01-01T01:39:00.000000000",
          "2024-01-01T01:42:00.000000000",
          "2024-01-01T01:45:00.000000000",
          "2024-01-01T01:48:00.000000000",
          "2024-01-01T01:51:00.000000000",
          "2024-01-01T01:54:00.000000000",
          "2024-01-01T01:57:00.000000000",
          "2024-01-01T02:00:00.000000000",
          "2024-01-01T02:03:00.000000000",
          "2024-01-01T02:06:00.000000000",
          "2024-01-01T02:09:00.000000000",
          "2024-01-01T02:12:00.000000000",
          "2024-01-01T02:15:00.000000000",
          "2024-01-01T02:18:00.000000000",
          "2024-01-01T02:21:00.000000000",
          "2024-01-01T02:24:00.000000000",
          "2024-01-01T02:27:00.000000000",
          "2024-01-01T02:30:00.000000000",
          "2024-01-01T02:33:00.000000000",
          "2024-01-01T02:36:00.000000000",
          "2024-01-01T02:39:00.000000000",
          "2024-01-01T02:42:00.000000000",
          "2024-01-01T02:45:00.000000000",
          "2024-01-01T02:48:00.000000000",
          "2024-01-01T02:51:00.000000000",
          "2024-01-01T02:54:00.000000000",
          "2024-01-01T02:57:00.000000000",
          "2024-01-01T03:00:00.000000000",
          "2024-01-01T03:03:00.000000000",
          "2024-01-01T03:06:00.000000000",
          "2024-01-01T03:09:00.000000000",
          "2024-01-01T03:12:00.000000000",
          "2024-01-01T03:15:00.000000000",
          "2024-01-01T03:18:00.000000000",
          "2024-01-01T03:21:00.000000000",
          "2024-01-01T03:24:00.000000000",
          "2024-01-01T03:27:00.000000000",
          "2024-01-01T03:30:00.000000000",
          "2024-01-01T03:33:00.000000000",
          "2024-01-01T03:36:00.000000000",
          "2024-01-01T03:39:00.000000000",
          "2024-01-01T03:42:00.000000000",
          "2024-01-01T03:45:00.000000000",
          "2024-01-01T03:48:00.000000000",
          "2024-01-01T03:51:00.000000000",
          "2024-01-01T03:54:00.000000000",
          "2024-01-01T03:57:00.000000000"
         ],
         "y": {
          "bdata": "tuFgoscMDEDDwZilDxEMQIbWIAJRywtAZYEYniWkC0CMWtqnf3cLQNdpq1IXTwtA/C9eNZpcC0AAvEFzuTILQL37VDCXWQtA9jllJig6C0C48ItBeDMLQCyt/SIfZAtAn1vrNJDFC0BCrQ69VAMMQEPKzc4OMwxA3n7tMVD6C0Afg5zJAvgLQJPbBQzLGAxA+rOI8FwHDEBySBt/EUsMQG9UmOr/lwxAHS6azFOeDEDlLekXHKUMQMnchmejaAxAe1GpSx+kDED31zoQN4cMQFHTSh2xcQxAiRHmB15vDEBcxJOC0E4MQL29ua1jeAxABNmdZKR3DEAZ2jt/ccQMQGtTQZmojwxA0XTvmIt2DEAyPcgHZZ4MQE7ZU4ozpAxAibDXRmqtDEDWaM+tTA0NQOn7Lr6BHg1AX+re2NojDUCsoxVnUsoMQLUoCIkd5gxAnjXRLr8IDUBOIDMNyEANQE7e+v3qCw1AlMs/zPWaDEBvaaJiwmEMQIH2gwnXqgxAd6L6pc7gDECYoYAvn4MMQIQsRWOvUAxAv7I9TroBDEC/lKXPFhwMQO7sZMVA+gtAhHY+tVY/DEBWI0Dv+hAMQCQbSVHAOgxAxElyfX49DEDI3MwtkJ0MQC0Psr7OVwxAdvZgHDrmC0DLGtsCO3AMQLUIzWFNugxAHwkJBb7VDECzqBI4k8wMQOOWE2HNuQxATMS50rG6DEDOqcOg328MQBiRR05HGwxAcHYzmqhEDECHqI3Xeg4MQH1OnJnD0wtA6P/8WBieC0COygq13bYLQLlfacB61QtA6obxMNpqC0A1sJVO4SYLQNhSzgEvPgtAVnRCPC4xC0Dk4YzRmNcKQA==",
          "dtype": "f8"
         }
        },
        {
         "line": {
          "color": "#2ca02c",
          "width": 3
         },
         "marker": {
          "size": 5
         },
         "mode": "lines+markers",
         "name": "Selection_C",
         "type": "scatter",
         "x": [
          "2024-01-01T00:00:00.000000000",
          "2024-01-01T00:03:00.000000000",
          "2024-01-01T00:06:00.000000000",
          "2024-01-01T00:09:00.000000000",
          "2024-01-01T00:12:00.000000000",
          "2024-01-01T00:15:00.000000000",
          "2024-01-01T00:18:00.000000000",
          "2024-01-01T00:21:00.000000000",
          "2024-01-01T00:24:00.000000000",
          "2024-01-01T00:27:00.000000000",
          "2024-01-01T00:30:00.000000000",
          "2024-01-01T00:33:00.000000000",
          "2024-01-01T00:36:00.000000000",
          "2024-01-01T00:39:00.000000000",
          "2024-01-01T00:42:00.000000000",
          "2024-01-01T00:45:00.000000000",
          "2024-01-01T00:48:00.000000000",
          "2024-01-01T00:51:00.000000000",
          "2024-01-01T00:54:00.000000000",
          "2024-01-01T00:57:00.000000000",
          "2024-01-01T01:00:00.000000000",
          "2024-01-01T01:03:00.000000000",
          "2024-01-01T01:06:00.000000000",
          "2024-01-01T01:09:00.000000000",
          "2024-01-01T01:12:00.000000000",
          "2024-01-01T01:15:00.000000000",
          "2024-01-01T01:18:00.000000000",
          "2024-01-01T01:21:00.000000000",
          "2024-01-01T01:24:00.000000000",
          "2024-01-01T01:27:00.000000000",
          "2024-01-01T01:30:00.000000000",
          "2024-01-01T01:33:00.000000000",
          "2024-01-01T01:36:00.000000000",
          "2024-01-01T01:39:00.000000000",
          "2024-01-01T01:42:00.000000000",
          "2024-01-01T01:45:00.000000000",
          "2024-01-01T01:48:00.000000000",
          "2024-01-01T01:51:00.000000000",
          "2024-01-01T01:54:00.000000000",
          "2024-01-01T01:57:00.000000000",
          "2024-01-01T02:00:00.000000000",
          "2024-01-01T02:03:00.000000000",
          "2024-01-01T02:06:00.000000000",
          "2024-01-01T02:09:00.000000000",
          "2024-01-01T02:12:00.000000000",
          "2024-01-01T02:15:00.000000000",
          "2024-01-01T02:18:00.000000000",
          "2024-01-01T02:21:00.000000000",
          "2024-01-01T02:24:00.000000000",
          "2024-01-01T02:27:00.000000000",
          "2024-01-01T02:30:00.000000000",
          "2024-01-01T02:33:00.000000000",
          "2024-01-01T02:36:00.000000000",
          "2024-01-01T02:39:00.000000000",
          "2024-01-01T02:42:00.000000000",
          "2024-01-01T02:45:00.000000000",
          "2024-01-01T02:48:00.000000000",
          "2024-01-01T02:51:00.000000000",
          "2024-01-01T02:54:00.000000000",
          "2024-01-01T02:57:00.000000000",
          "2024-01-01T03:00:00.000000000",
          "2024-01-01T03:03:00.000000000",
          "2024-01-01T03:06:00.000000000",
          "2024-01-01T03:09:00.000000000",
          "2024-01-01T03:12:00.000000000",
          "2024-01-01T03:15:00.000000000",
          "2024-01-01T03:18:00.000000000",
          "2024-01-01T03:21:00.000000000",
          "2024-01-01T03:24:00.000000000",
          "2024-01-01T03:27:00.000000000",
          "2024-01-01T03:30:00.000000000",
          "2024-01-01T03:33:00.000000000",
          "2024-01-01T03:36:00.000000000",
          "2024-01-01T03:39:00.000000000",
          "2024-01-01T03:42:00.000000000",
          "2024-01-01T03:45:00.000000000",
          "2024-01-01T03:48:00.000000000",
          "2024-01-01T03:51:00.000000000",
          "2024-01-01T03:54:00.000000000",
          "2024-01-01T03:57:00.000000000"
         ],
         "y": {
          "bdata": "0M9P6XfAEECvjG8mIJ8QQGfSnA/qmhBA7OeEqD6YEECZgTXXIqAQQBvoftPYrBBAgd9ihKGuEEB3TK+cnZAQQMaWMhLVohBAgKUWhCCsEEAwcNrf86IQQM+MyAsZiRBAuVW1CECTEECHCQeBMa8QQLobFfIushBAAnh0rEWuEEAqe9W65NEQQGU7KeJN1xBATbRjj1cDEUCy7Q6w3w0RQJf5Ng3IDhFAKOCPOK3sEEA1xFPztuIQQIiRYieQ9RBARMjDpvIYEUBiNhzdPhcRQDGzbnOlBBFAR6vyrfkvEUAGq3gXsCERQOeypMKHCRFA+n53J2wgEUCEIh9qMwIRQNFpv/bVCBFAwRowUQkaEUCPpw3exjERQGqfuA4CPxFAVApyJihBEUBBT1DjnlIRQCAH2DYgPhFA25x0GWNKEUAIpPeCLmARQAJhwS+0URFAYX/UhJ5FEUA4HURyT2kRQMTXNLSneRFA0CL0/r99EUD0usOhKIMRQDqu0WIBexFA8XXPSyuxEUCr+R9b1aERQJ5tHURAhRFAgcolIFeREUDxR5CVonQRQI/GULmCiBFAkCpt9hufEUDf9wFucYERQHpAEdsnXRFA2EJBgqt8EUDIrXnwlI4RQGIKKaFqeBFAnn4YRopwEUAkaAyYo6MRQO5ZpxQ0thFAVYpepR2qEUAINYd4bLgRQGwRtA/1uhFArBo7To2eEUAMl3Lh+4ARQJmPMM1MdxFANUmtHDSVEUBO2U0656cRQORwGFMzxRFAnddvDHTmEUAJwrWw6gMSQPhqEc+NFhJAUzJiAJMrEkD+GNSzHCESQFheZn73LBJAVmxLXx/+EUBcFW0VmDoSQA==",
          "dtype": "f8"
         }
        }
       ],
       "layout": {
        "height": 600,
        "hovermode": "x unified",
        "legend": {
         "x": 0.01,
         "xanchor": "left",
         "y": 0.99,
         "yanchor": "top"
        },
        "showlegend": true,
        "template": {
         "data": {
          "bar": [
           {
            "error_x": {
             "color": "#2a3f5f"
            },
            "error_y": {
             "color": "#2a3f5f"
            },
            "marker": {
             "line": {
              "color": "white",
              "width": 0.5
             },
             "pattern": {
              "fillmode": "overlay",
              "size": 10,
              "solidity": 0.2
             }
            },
            "type": "bar"
           }
          ],
          "barpolar": [
           {
            "marker": {
             "line": {
              "color": "white",
              "width": 0.5
             },
             "pattern": {
              "fillmode": "overlay",
              "size": 10,
              "solidity": 0.2
             }
            },
            "type": "barpolar"
           }
          ],
          "carpet": [
           {
            "aaxis": {
             "endlinecolor": "#2a3f5f",
             "gridcolor": "#C8D4E3",
             "linecolor": "#C8D4E3",
             "minorgridcolor": "#C8D4E3",
             "startlinecolor": "#2a3f5f"
            },
            "baxis": {
             "endlinecolor": "#2a3f5f",
             "gridcolor": "#C8D4E3",
             "linecolor": "#C8D4E3",
             "minorgridcolor": "#C8D4E3",
             "startlinecolor": "#2a3f5f"
            },
            "type": "carpet"
           }
          ],
          "choropleth": [
           {
            "colorbar": {
             "outlinewidth": 0,
             "ticks": ""
            },
            "type": "choropleth"
           }
          ],
          "contour": [
           {
            "colorbar": {
             "outlinewidth": 0,
             "ticks": ""
            },
            "colorscale": [
             [
              0,
              "#0d0887"
             ],
             [
              0.1111111111111111,
              "#46039f"
             ],
             [
              0.2222222222222222,
              "#7201a8"
             ],
             [
              0.3333333333333333,
              "#9c179e"
             ],
             [
              0.4444444444444444,
              "#bd3786"
             ],
             [
              0.5555555555555556,
              "#d8576b"
             ],
             [
              0.6666666666666666,
              "#ed7953"
             ],
             [
              0.7777777777777778,
              "#fb9f3a"
             ],
             [
              0.8888888888888888,
              "#fdca26"
             ],
             [
              1,
              "#f0f921"
             ]
            ],
            "type": "contour"
           }
          ],
          "contourcarpet": [
           {
            "colorbar": {
             "outlinewidth": 0,
             "ticks": ""
            },
            "type": "contourcarpet"
           }
          ],
          "heatmap": [
           {
            "colorbar": {
             "outlinewidth": 0,
             "ticks": ""
            },
            "colorscale": [
             [
              0,
              "#0d0887"
             ],
             [
              0.1111111111111111,
              "#46039f"
             ],
             [
              0.2222222222222222,
              "#7201a8"
             ],
             [
              0.3333333333333333,
              "#9c179e"
             ],
             [
              0.4444444444444444,
              "#bd3786"
             ],
             [
              0.5555555555555556,
              "#d8576b"
             ],
             [
              0.6666666666666666,
              "#ed7953"
             ],
             [
              0.7777777777777778,
              "#fb9f3a"
             ],
             [
              0.8888888888888888,
              "#fdca26"
             ],
             [
              1,
              "#f0f921"
             ]
            ],
            "type": "heatmap"
           }
          ],
          "histogram": [
           {
            "marker": {
             "pattern": {
              "fillmode": "overlay",
              "size": 10,
              "solidity": 0.2
             }
            },
            "type": "histogram"
           }
          ],
          "histogram2d": [
           {
            "colorbar": {
             "outlinewidth": 0,
             "ticks": ""
            },
            "colorscale": [
             [
              0,
              "#0d0887"
             ],
             [
              0.1111111111111111,
              "#46039f"
             ],
             [
              0.2222222222222222,
              "#7201a8"
             ],
             [
              0.3333333333333333,
              "#9c179e"
             ],
             [
              0.4444444444444444,
              "#bd3786"
             ],
             [
              0.5555555555555556,
              "#d8576b"
             ],
             [
              0.6666666666666666,
              "#ed7953"
             ],
             [
              0.7777777777777778,
              "#fb9f3a"
             ],
             [
              0.8888888888888888,
              "#fdca26"
             ],
             [
              1,
              "#f0f921"
             ]
            ],
            "type": "histogram2d"
           }
          ],
          "histogram2dcontour": [
           {
            "colorbar": {
             "outlinewidth": 0,
             "ticks": ""
            },
            "colorscale": [
             [
              0,
              "#0d0887"
             ],
             [
              0.1111111111111111,
              "#46039f"
             ],
             [
              0.2222222222222222,
              "#7201a8"
             ],
             [
              0.3333333333333333,
              "#9c179e"
             ],
             [
              0.4444444444444444,
              "#bd3786"
             ],
             [
              0.5555555555555556,
              "#d8576b"
             ],
             [
              0.6666666666666666,
              "#ed7953"
             ],
             [
              0.7777777777777778,
              "#fb9f3a"
             ],
             [
              0.8888888888888888,
              "#fdca26"
             ],
             [
              1,
              "#f0f921"
             ]
            ],
            "type": "histogram2dcontour"
           }
          ],
          "mesh3d": [
           {
            "colorbar": {
             "outlinewidth": 0,
             "ticks": ""
            },
            "type": "mesh3d"
           }
          ],
          "parcoords": [
           {
            "line": {
             "colorbar": {
              "outlinewidth": 0,
              "ticks": ""
             }
            },
            "type": "parcoords"
           }
          ],
          "pie": [
           {
            "automargin": true,
            "type": "pie"
           }
          ],
          "scatter": [
           {
            "fillpattern": {
             "fillmode": "overlay",
             "size": 10,
             "solidity": 0.2
            },
            "type": "scatter"
           }
          ],
          "scatter3d": [
           {
            "line": {
             "colorbar": {
              "outlinewidth": 0,
              "ticks": ""
             }
            },
            "marker": {
             "colorbar": {
              "outlinewidth": 0,
              "ticks": ""
             }
            },
            "type": "scatter3d"
           }
          ],
          "scattercarpet": [
           {
            "marker": {
             "colorbar": {
              "outlinewidth": 0,
              "ticks": ""
             }
            },
            "type": "scattercarpet"
           }
          ],
          "scattergeo": [
           {
            "marker": {
             "colorbar": {
              "outlinewidth": 0,
              "ticks": ""
             }
            },
            "type": "scattergeo"
           }
          ],
          "scattergl": [
           {
            "marker": {
             "colorbar": {
              "outlinewidth": 0,
              "ticks": ""
             }
            },
            "type": "scattergl"
           }
          ],
          "scattermap": [
           {
            "marker": {
             "colorbar": {
              "outlinewidth": 0,
              "ticks": ""
             }
            },
            "type": "scattermap"
           }
          ],
          "scattermapbox": [
           {
            "marker": {
             "colorbar": {
              "outlinewidth": 0,
              "ticks": ""
             }
            },
            "type": "scattermapbox"
           }
          ],
          "scatterpolar": [
           {
            "marker": {
             "colorbar": {
              "outlinewidth": 0,
              "ticks": ""
             }
            },
            "type": "scatterpolar"
           }
          ],
          "scatterpolargl": [
           {
            "marker": {
             "colorbar": {
              "outlinewidth": 0,
              "ticks": ""
             }
            },
            "type": "scatterpolargl"
           }
          ],
          "scatterternary": [
           {
            "marker": {
             "colorbar": {
              "outlinewidth": 0,
              "ticks": ""
             }
            },
            "type": "scatterternary"
           }
          ],
          "surface": [
           {
            "colorbar": {
             "outlinewidth": 0,
             "ticks": ""
            },
            "colorscale": [
             [
              0,
              "#0d0887"
             ],
             [
              0.1111111111111111,
              "#46039f"
             ],
             [
              0.2222222222222222,
              "#7201a8"
             ],
             [
              0.3333333333333333,
              "#9c179e"
             ],
             [
              0.4444444444444444,
              "#bd3786"
             ],
             [
              0.5555555555555556,
              "#d8576b"
             ],
             [
              0.6666666666666666,
              "#ed7953"
             ],
             [
              0.7777777777777778,
              "#fb9f3a"
             ],
             [
              0.8888888888888888,
              "#fdca26"
             ],
             [
              1,
              "#f0f921"
             ]
            ],
            "type": "surface"
           }
          ],
          "table": [
           {
            "cells": {
             "fill": {
              "color": "#EBF0F8"
             },
             "line": {
              "color": "white"
             }
            },
            "header": {
             "fill": {
              "color": "#C8D4E3"
             },
             "line": {
              "color": "white"
             }
            },
            "type": "table"
           }
          ]
         },
         "layout": {
          "annotationdefaults": {
           "arrowcolor": "#2a3f5f",
           "arrowhead": 0,
           "arrowwidth": 1
          },
          "autotypenumbers": "strict",
          "coloraxis": {
           "colorbar": {
            "outlinewidth": 0,
            "ticks": ""
           }
          },
          "colorscale": {
           "diverging": [
            [
             0,
             "#8e0152"
            ],
            [
             0.1,
             "#c51b7d"
            ],
            [
             0.2,
             "#de77ae"
            ],
            [
             0.3,
             "#f1b6da"
            ],
            [
             0.4,
             "#fde0ef"
            ],
            [
             0.5,
             "#f7f7f7"
            ],
            [
             0.6,
             "#e6f5d0"
            ],
            [
             0.7,
             "#b8e186"
            ],
            [
             0.8,
             "#7fbc41"
            ],
            [
             0.9,
             "#4d9221"
            ],
            [
             1,
             "#276419"
            ]
           ],
           "sequential": [
            [
             0,
             "#0d0887"
            ],
            [
             0.1111111111111111,
             "#46039f"
            ],
            [
             0.2222222222222222,
             "#7201a8"
            ],
            [
             0.3333333333333333,
             "#9c179e"
            ],
            [
             0.4444444444444444,
             "#bd3786"
            ],
            [
             0.5555555555555556,
             "#d8576b"
            ],
            [
             0.6666666666666666,
             "#ed7953"
            ],
            [
             0.7777777777777778,
             "#fb9f3a"
            ],
            [
             0.8888888888888888,
             "#fdca26"
            ],
            [
             1,
             "#f0f921"
            ]
           ],
           "sequentialminus": [
            [
             0,
             "#0d0887"
            ],
            [
             0.1111111111111111,
             "#46039f"
            ],
            [
             0.2222222222222222,
             "#7201a8"
            ],
            [
             0.3333333333333333,
             "#9c179e"
            ],
            [
             0.4444444444444444,
             "#bd3786"
            ],
            [
             0.5555555555555556,
             "#d8576b"
            ],
            [
             0.6666666666666666,
             "#ed7953"
            ],
            [
             0.7777777777777778,
             "#fb9f3a"
            ],
            [
             0.8888888888888888,
             "#fdca26"
            ],
            [
             1,
             "#f0f921"
            ]
           ]
          },
          "colorway": [
           "#636efa",
           "#EF553B",
           "#00cc96",
           "#ab63fa",
           "#FFA15A",
           "#19d3f3",
           "#FF6692",
           "#B6E880",
           "#FF97FF",
           "#FECB52"
          ],
          "font": {
           "color": "#2a3f5f"
          },
          "geo": {
           "bgcolor": "white",
           "lakecolor": "white",
           "landcolor": "white",
           "showlakes": true,
           "showland": true,
           "subunitcolor": "#C8D4E3"
          },
          "hoverlabel": {
           "align": "left"
          },
          "hovermode": "closest",
          "mapbox": {
           "style": "light"
          },
          "paper_bgcolor": "white",
          "plot_bgcolor": "white",
          "polar": {
           "angularaxis": {
            "gridcolor": "#EBF0F8",
            "linecolor": "#EBF0F8",
            "ticks": ""
           },
           "bgcolor": "white",
           "radialaxis": {
            "gridcolor": "#EBF0F8",
            "linecolor": "#EBF0F8",
            "ticks": ""
           }
          },
          "scene": {
           "xaxis": {
            "backgroundcolor": "white",
            "gridcolor": "#DFE8F3",
            "gridwidth": 2,
            "linecolor": "#EBF0F8",
            "showbackground": true,
            "ticks": "",
            "zerolinecolor": "#EBF0F8"
           },
           "yaxis": {
            "backgroundcolor": "white",
            "gridcolor": "#DFE8F3",
            "gridwidth": 2,
            "linecolor": "#EBF0F8",
            "showbackground": true,
            "ticks": "",
            "zerolinecolor": "#EBF0F8"
           },
           "zaxis": {
            "backgroundcolor": "white",
            "gridcolor": "#DFE8F3",
            "gridwidth": 2,
            "linecolor": "#EBF0F8",
            "showbackground": true,
            "ticks": "",
            "zerolinecolor": "#EBF0F8"
           }
          },
          "shapedefaults": {
           "line": {
            "color": "#2a3f5f"
           }
          },
          "ternary": {
           "aaxis": {
            "gridcolor": "#DFE8F3",
            "linecolor": "#A2B1C6",
            "ticks": ""
           },
           "baxis": {
            "gridcolor": "#DFE8F3",
            "linecolor": "#A2B1C6",
            "ticks": ""
           },
           "bgcolor": "white",
           "caxis": {
            "gridcolor": "#DFE8F3",
            "linecolor": "#A2B1C6",
            "ticks": ""
           }
          },
          "title": {
           "x": 0.05
          },
          "xaxis": {
           "automargin": true,
           "gridcolor": "#EBF0F8",
           "linecolor": "#EBF0F8",
           "ticks": "",
           "title": {
            "standoff": 15
           },
           "zerolinecolor": "#EBF0F8",
           "zerolinewidth": 2
          },
          "yaxis": {
           "automargin": true,
           "gridcolor": "#EBF0F8",
           "linecolor": "#EBF0F8",
           "ticks": "",
           "title": {
            "standoff": 15
           },
           "zerolinecolor": "#EBF0F8",
           "zerolinewidth": 2
          }
         }
        },
        "title": {
         "text": "Multi-Selection Price Comparison (Demo Data)"
        },
        "xaxis": {
         "title": {
          "text": "Time"
         }
        },
        "yaxis": {
         "title": {
          "text": "Price"
         }
        }
       }
      }
     },
     "metadata": {},
     "output_type": "display_data"
    },
    {
     "name": "stdout",
     "output_type": "stream",
     "text": [
      "Multi-selection comparison chart created successfully!\n"
     ]
    },
    {
     "data": {
      "application/vnd.plotly.v1+json": {
       "config": {
        "plotlyServerURL": "https://plot.ly"
       },
       "data": [
        {
         "colorscale": [
          [
           0,
           "rgb(103,0,31)"
          ],
          [
           0.1,
           "rgb(178,24,43)"
          ],
          [
           0.2,
           "rgb(214,96,77)"
          ],
          [
           0.3,
           "rgb(244,165,130)"
          ],
          [
           0.4,
           "rgb(253,219,199)"
          ],
          [
           0.5,
           "rgb(247,247,247)"
          ],
          [
           0.6,
           "rgb(209,229,240)"
          ],
          [
           0.7,
           "rgb(146,197,222)"
          ],
          [
           0.8,
           "rgb(67,147,195)"
          ],
          [
           0.9,
           "rgb(33,102,172)"
          ],
          [
           1,
           "rgb(5,48,97)"
          ]
         ],
         "hoverongaps": false,
         "text": {
          "bdata": "AAAAAAAA8D8Sg8DKoUXGPy/dJAaBlee/EoPAyqFFxj8AAAAAAADwP9NNYhBYObQ/L90kBoGV57/TTWIQWDm0PwAAAAAAAPA/",
          "dtype": "f8",
          "shape": "3, 3"
         },
         "textfont": {
          "size": 12
         },
         "texttemplate": "%{text}",
         "type": "heatmap",
         "x": [
          "Selection_A",
          "Selection_B",
          "Selection_C"
         ],
         "y": [
          "Selection_A",
          "Selection_B",
          "Selection_C"
         ],
         "z": {
          "bdata": "AAAAAAAA8D8/QyXo9UPGP0UFe5+Lkue/P0Ml6PVDxj8AAAAAAADwPxmMutpuUbQ/RQV7n4uS578ZjLrablG0PwAAAAAAAPA/",
          "dtype": "f8",
          "shape": "3, 3"
         },
         "zmid": 0
        }
       ],
       "layout": {
        "height": 500,
        "template": {
         "data": {
          "bar": [
           {
            "error_x": {
             "color": "#2a3f5f"
            },
            "error_y": {
             "color": "#2a3f5f"
            },
            "marker": {
             "line": {
              "color": "white",
              "width": 0.5
             },
             "pattern": {
              "fillmode": "overlay",
              "size": 10,
              "solidity": 0.2
             }
            },
            "type": "bar"
           }
          ],
          "barpolar": [
           {
            "marker": {
             "line": {
              "color": "white",
              "width": 0.5
             },
             "pattern": {
              "fillmode": "overlay",
              "size": 10,
              "solidity": 0.2
             }
            },
            "type": "barpolar"
           }
          ],
          "carpet": [
           {
            "aaxis": {
             "endlinecolor": "#2a3f5f",
             "gridcolor": "#C8D4E3",
             "linecolor": "#C8D4E3",
             "minorgridcolor": "#C8D4E3",
             "startlinecolor": "#2a3f5f"
            },
            "baxis": {
             "endlinecolor": "#2a3f5f",
             "gridcolor": "#C8D4E3",
             "linecolor": "#C8D4E3",
             "minorgridcolor": "#C8D4E3",
             "startlinecolor": "#2a3f5f"
            },
            "type": "carpet"
           }
          ],
          "choropleth": [
           {
            "colorbar": {
             "outlinewidth": 0,
             "ticks": ""
            },
            "type": "choropleth"
           }
          ],
          "contour": [
           {
            "colorbar": {
             "outlinewidth": 0,
             "ticks": ""
            },
            "colorscale": [
             [
              0,
              "#0d0887"
             ],
             [
              0.1111111111111111,
              "#46039f"
             ],
             [
              0.2222222222222222,
              "#7201a8"
             ],
             [
              0.3333333333333333,
              "#9c179e"
             ],
             [
              0.4444444444444444,
              "#bd3786"
             ],
             [
              0.5555555555555556,
              "#d8576b"
             ],
             [
              0.6666666666666666,
              "#ed7953"
             ],
             [
              0.7777777777777778,
              "#fb9f3a"
             ],
             [
              0.8888888888888888,
              "#fdca26"
             ],
             [
              1,
              "#f0f921"
             ]
            ],
            "type": "contour"
           }
          ],
          "contourcarpet": [
           {
            "colorbar": {
             "outlinewidth": 0,
             "ticks": ""
            },
            "type": "contourcarpet"
           }
          ],
          "heatmap": [
           {
            "colorbar": {
             "outlinewidth": 0,
             "ticks": ""
            },
            "colorscale": [
             [
              0,
              "#0d0887"
             ],
             [
              0.1111111111111111,
              "#46039f"
             ],
             [
              0.2222222222222222,
              "#7201a8"
             ],
             [
              0.3333333333333333,
              "#9c179e"
             ],
             [
              0.4444444444444444,
              "#bd3786"
             ],
             [
              0.5555555555555556,
              "#d8576b"
             ],
             [
              0.6666666666666666,
              "#ed7953"
             ],
             [
              0.7777777777777778,
              "#fb9f3a"
             ],
             [
              0.8888888888888888,
              "#fdca26"
             ],
             [
              1,
              "#f0f921"
             ]
            ],
            "type": "heatmap"
           }
          ],
          "histogram": [
           {
            "marker": {
             "pattern": {
              "fillmode": "overlay",
              "size": 10,
              "solidity": 0.2
             }
            },
            "type": "histogram"
           }
          ],
          "histogram2d": [
           {
            "colorbar": {
             "outlinewidth": 0,
             "ticks": ""
            },
            "colorscale": [
             [
              0,
              "#0d0887"
             ],
             [
              0.1111111111111111,
              "#46039f"
             ],
             [
              0.2222222222222222,
              "#7201a8"
             ],
             [
              0.3333333333333333,
              "#9c179e"
             ],
             [
              0.4444444444444444,
              "#bd3786"
             ],
             [
              0.5555555555555556,
              "#d8576b"
             ],
             [
              0.6666666666666666,
              "#ed7953"
             ],
             [
              0.7777777777777778,
              "#fb9f3a"
             ],
             [
              0.8888888888888888,
              "#fdca26"
             ],
             [
              1,
              "#f0f921"
             ]
            ],
            "type": "histogram2d"
           }
          ],
          "histogram2dcontour": [
           {
            "colorbar": {
             "outlinewidth": 0,
             "ticks": ""
            },
            "colorscale": [
             [
              0,
              "#0d0887"
             ],
             [
              0.1111111111111111,
              "#46039f"
             ],
             [
              0.2222222222222222,
              "#7201a8"
             ],
             [
              0.3333333333333333,
              "#9c179e"
             ],
             [
              0.4444444444444444,
              "#bd3786"
             ],
             [
              0.5555555555555556,
              "#d8576b"
             ],
             [
              0.6666666666666666,
              "#ed7953"
             ],
             [
              0.7777777777777778,
              "#fb9f3a"
             ],
             [
              0.8888888888888888,
              "#fdca26"
             ],
             [
              1,
              "#f0f921"
             ]
            ],
            "type": "histogram2dcontour"
           }
          ],
          "mesh3d": [
           {
            "colorbar": {
             "outlinewidth": 0,
             "ticks": ""
            },
            "type": "mesh3d"
           }
          ],
          "parcoords": [
           {
            "line": {
             "colorbar": {
              "outlinewidth": 0,
              "ticks": ""
             }
            },
            "type": "parcoords"
           }
          ],
          "pie": [
           {
            "automargin": true,
            "type": "pie"
           }
          ],
          "scatter": [
           {
            "fillpattern": {
             "fillmode": "overlay",
             "size": 10,
             "solidity": 0.2
            },
            "type": "scatter"
           }
          ],
          "scatter3d": [
           {
            "line": {
             "colorbar": {
              "outlinewidth": 0,
              "ticks": ""
             }
            },
            "marker": {
             "colorbar": {
              "outlinewidth": 0,
              "ticks": ""
             }
            },
            "type": "scatter3d"
           }
          ],
          "scattercarpet": [
           {
            "marker": {
             "colorbar": {
              "outlinewidth": 0,
              "ticks": ""
             }
            },
            "type": "scattercarpet"
           }
          ],
          "scattergeo": [
           {
            "marker": {
             "colorbar": {
              "outlinewidth": 0,
              "ticks": ""
             }
            },
            "type": "scattergeo"
           }
          ],
          "scattergl": [
           {
            "marker": {
             "colorbar": {
              "outlinewidth": 0,
              "ticks": ""
             }
            },
            "type": "scattergl"
           }
          ],
          "scattermap": [
           {
            "marker": {
             "colorbar": {
              "outlinewidth": 0,
              "ticks": ""
             }
            },
            "type": "scattermap"
           }
          ],
          "scattermapbox": [
           {
            "marker": {
             "colorbar": {
              "outlinewidth": 0,
              "ticks": ""
             }
            },
            "type": "scattermapbox"
           }
          ],
          "scatterpolar": [
           {
            "marker": {
             "colorbar": {
              "outlinewidth": 0,
              "ticks": ""
             }
            },
            "type": "scatterpolar"
           }
          ],
          "scatterpolargl": [
           {
            "marker": {
             "colorbar": {
              "outlinewidth": 0,
              "ticks": ""
             }
            },
            "type": "scatterpolargl"
           }
          ],
          "scatterternary": [
           {
            "marker": {
             "colorbar": {
              "outlinewidth": 0,
              "ticks": ""
             }
            },
            "type": "scatterternary"
           }
          ],
          "surface": [
           {
            "colorbar": {
             "outlinewidth": 0,
             "ticks": ""
            },
            "colorscale": [
             [
              0,
              "#0d0887"
             ],
             [
              0.1111111111111111,
              "#46039f"
             ],
             [
              0.2222222222222222,
              "#7201a8"
             ],
             [
              0.3333333333333333,
              "#9c179e"
             ],
             [
              0.4444444444444444,
              "#bd3786"
             ],
             [
              0.5555555555555556,
              "#d8576b"
             ],
             [
              0.6666666666666666,
              "#ed7953"
             ],
             [
              0.7777777777777778,
              "#fb9f3a"
             ],
             [
              0.8888888888888888,
              "#fdca26"
             ],
             [
              1,
              "#f0f921"
             ]
            ],
            "type": "surface"
           }
          ],
          "table": [
           {
            "cells": {
             "fill": {
              "color": "#EBF0F8"
             },
             "line": {
              "color": "white"
             }
            },
            "header": {
             "fill": {
              "color": "#C8D4E3"
             },
             "line": {
              "color": "white"
             }
            },
            "type": "table"
           }
          ]
         },
         "layout": {
          "annotationdefaults": {
           "arrowcolor": "#2a3f5f",
           "arrowhead": 0,
           "arrowwidth": 1
          },
          "autotypenumbers": "strict",
          "coloraxis": {
           "colorbar": {
            "outlinewidth": 0,
            "ticks": ""
           }
          },
          "colorscale": {
           "diverging": [
            [
             0,
             "#8e0152"
            ],
            [
             0.1,
             "#c51b7d"
            ],
            [
             0.2,
             "#de77ae"
            ],
            [
             0.3,
             "#f1b6da"
            ],
            [
             0.4,
             "#fde0ef"
            ],
            [
             0.5,
             "#f7f7f7"
            ],
            [
             0.6,
             "#e6f5d0"
            ],
            [
             0.7,
             "#b8e186"
            ],
            [
             0.8,
             "#7fbc41"
            ],
            [
             0.9,
             "#4d9221"
            ],
            [
             1,
             "#276419"
            ]
           ],
           "sequential": [
            [
             0,
             "#0d0887"
            ],
            [
             0.1111111111111111,
             "#46039f"
            ],
            [
             0.2222222222222222,
             "#7201a8"
            ],
            [
             0.3333333333333333,
             "#9c179e"
            ],
            [
             0.4444444444444444,
             "#bd3786"
            ],
            [
             0.5555555555555556,
             "#d8576b"
            ],
            [
             0.6666666666666666,
             "#ed7953"
            ],
            [
             0.7777777777777778,
             "#fb9f3a"
            ],
            [
             0.8888888888888888,
             "#fdca26"
            ],
            [
             1,
             "#f0f921"
            ]
           ],
           "sequentialminus": [
            [
             0,
             "#0d0887"
            ],
            [
             0.1111111111111111,
             "#46039f"
            ],
            [
             0.2222222222222222,
             "#7201a8"
            ],
            [
             0.3333333333333333,
             "#9c179e"
            ],
            [
             0.4444444444444444,
             "#bd3786"
            ],
            [
             0.5555555555555556,
             "#d8576b"
            ],
            [
             0.6666666666666666,
             "#ed7953"
            ],
            [
             0.7777777777777778,
             "#fb9f3a"
            ],
            [
             0.8888888888888888,
             "#fdca26"
            ],
            [
             1,
             "#f0f921"
            ]
           ]
          },
          "colorway": [
           "#636efa",
           "#EF553B",
           "#00cc96",
           "#ab63fa",
           "#FFA15A",
           "#19d3f3",
           "#FF6692",
           "#B6E880",
           "#FF97FF",
           "#FECB52"
          ],
          "font": {
           "color": "#2a3f5f"
          },
          "geo": {
           "bgcolor": "white",
           "lakecolor": "white",
           "landcolor": "white",
           "showlakes": true,
           "showland": true,
           "subunitcolor": "#C8D4E3"
          },
          "hoverlabel": {
           "align": "left"
          },
          "hovermode": "closest",
          "mapbox": {
           "style": "light"
          },
          "paper_bgcolor": "white",
          "plot_bgcolor": "white",
          "polar": {
           "angularaxis": {
            "gridcolor": "#EBF0F8",
            "linecolor": "#EBF0F8",
            "ticks": ""
           },
           "bgcolor": "white",
           "radialaxis": {
            "gridcolor": "#EBF0F8",
            "linecolor": "#EBF0F8",
            "ticks": ""
           }
          },
          "scene": {
           "xaxis": {
            "backgroundcolor": "white",
            "gridcolor": "#DFE8F3",
            "gridwidth": 2,
            "linecolor": "#EBF0F8",
            "showbackground": true,
            "ticks": "",
            "zerolinecolor": "#EBF0F8"
           },
           "yaxis": {
            "backgroundcolor": "white",
            "gridcolor": "#DFE8F3",
            "gridwidth": 2,
            "linecolor": "#EBF0F8",
            "showbackground": true,
            "ticks": "",
            "zerolinecolor": "#EBF0F8"
           },
           "zaxis": {
            "backgroundcolor": "white",
            "gridcolor": "#DFE8F3",
            "gridwidth": 2,
            "linecolor": "#EBF0F8",
            "showbackground": true,
            "ticks": "",
            "zerolinecolor": "#EBF0F8"
           }
          },
          "shapedefaults": {
           "line": {
            "color": "#2a3f5f"
           }
          },
          "ternary": {
           "aaxis": {
            "gridcolor": "#DFE8F3",
            "linecolor": "#A2B1C6",
            "ticks": ""
           },
           "baxis": {
            "gridcolor": "#DFE8F3",
            "linecolor": "#A2B1C6",
            "ticks": ""
           },
           "bgcolor": "white",
           "caxis": {
            "gridcolor": "#DFE8F3",
            "linecolor": "#A2B1C6",
            "ticks": ""
           }
          },
          "title": {
           "x": 0.05
          },
          "xaxis": {
           "automargin": true,
           "gridcolor": "#EBF0F8",
           "linecolor": "#EBF0F8",
           "ticks": "",
           "title": {
            "standoff": 15
           },
           "zerolinecolor": "#EBF0F8",
           "zerolinewidth": 2
          },
          "yaxis": {
           "automargin": true,
           "gridcolor": "#EBF0F8",
           "linecolor": "#EBF0F8",
           "ticks": "",
           "title": {
            "standoff": 15
           },
           "zerolinecolor": "#EBF0F8",
           "zerolinewidth": 2
          }
         }
        },
        "title": {
         "text": "Price Correlation Between Selections"
        }
       }
      }
     },
     "metadata": {},
     "output_type": "display_data"
    },
    {
     "name": "stdout",
     "output_type": "stream",
     "text": [
      "Price correlation heatmap created successfully!\n"
     ]
    }
   ],
   "source": [
    "# Function to load multiple selections for comparison\n",
    "def load_multiple_selections(market_id, selection_ids):\n",
    "    \"\"\"\n",
    "    Load data for multiple selections from the same market\n",
    "    \"\"\"\n",
    "    all_data = {}\n",
    "    \n",
    "    for selection_id in selection_ids:\n",
    "        url = f\"{API_BASE_URL}?dataContextName={DATA_CONTEXT_NAME}&marketId={market_id}&selectionId={selection_id}\"\n",
    "        print(f\"Loading data for selection: {selection_id}\")\n",
    "        \n",
    "        data = load_betfair_data(url)\n",
    "        if data:\n",
    "            all_data[selection_id] = data\n",
    "        else:\n",
    "            print(f\"Failed to load data for selection: {selection_id}\")\n",
    "    \n",
    "    return all_data\n",
    "\n",
    "def create_multi_selection_comparison(selections_data):\n",
    "    \"\"\"\n",
    "    Create comparison charts for multiple selections\n",
    "    \"\"\"\n",
    "    fig = make_subplots(\n",
    "        rows=2, cols=1,\n",
    "        subplot_titles=('Price Comparison Across Selections', 'Normalized Price Movement (%)'),\n",
    "        vertical_spacing=0.15,\n",
    "        row_heights=[0.6, 0.4]\n",
    "    )\n",
    "    \n",
    "    colors = px.colors.qualitative.Dark24\n",
    "    \n",
    "    for i, (selection_id, data) in enumerate(selections_data.items()):\n",
    "        # Convert to DataFrame (simplified - adapt based on actual data structure)\n",
    "        if isinstance(data, list):\n",
    "            df_sel = pd.DataFrame(data)\n",
    "        elif isinstance(data, dict) and 'data' in data:\n",
    "            df_sel = pd.DataFrame(data['data'])\n",
    "        else:\n",
    "            continue\n",
    "        \n",
    "        if df_sel.empty:\n",
    "            continue\n",
    "        \n",
    "        # Assume there's a price column (adapt based on actual data)\n",
    "        price_col = None\n",
    "        for col in df_sel.columns:\n",
    "            if 'price' in col.lower():\n",
    "                price_col = col\n",
    "                break\n",
    "        \n",
    "        if price_col and not df_sel[price_col].isna().all():\n",
    "            x_axis = df_sel.index  # Use index as x-axis\n",
    "            y_values = pd.to_numeric(df_sel[price_col], errors='coerce')\n",
    "            \n",
    "            # Raw prices\n",
    "            fig.add_trace(\n",
    "                go.Scatter(\n",
    "                    x=x_axis,\n",
    "                    y=y_values,\n",
    "                    mode='lines+markers',\n",
    "                    name=f'Selection {selection_id}',\n",
    "                    line=dict(color=colors[i % len(colors)], width=2),\n",
    "                    marker=dict(size=4)\n",
    "                ),\n",
    "                row=1, col=1\n",
    "            )\n",
    "            \n",
    "            # Normalized percentage change\n",
    "            if len(y_values.dropna()) > 1:\n",
    "                normalized = ((y_values - y_values.iloc[0]) / y_values.iloc[0] * 100)\n",
    "                fig.add_trace(\n",
    "                    go.Scatter(\n",
    "                        x=x_axis,\n",
    "                        y=normalized,\n",
    "                        mode='lines',\n",
    "                        name=f'Selection {selection_id} (%)',\n",
    "                        line=dict(color=colors[i % len(colors)], width=2),\n",
    "                        showlegend=False\n",
    "                    ),\n",
    "                    row=2, col=1\n",
    "                )\n",
    "    \n",
    "    fig.update_layout(\n",
    "        title=f'Multi-Selection Comparison - Market {MARKET_ID}',\n",
    "        height=800,\n",
    "        template='plotly_white',\n",
    "        showlegend=True\n",
    "    )\n",
    "    \n",
    "    fig.update_xaxes(title_text=\"Time\", row=1, col=1)\n",
    "    fig.update_yaxes(title_text=\"Price\", row=1, col=1)\n",
    "    fig.update_xaxes(title_text=\"Time\", row=2, col=1)\n",
    "    fig.update_yaxes(title_text=\"Price Change (%)\", row=2, col=1)\n",
    "    \n",
    "    return fig\n",
    "\n",
    "# Example: Load multiple selections for comparison\n",
    "selection_ids_to_compare = [\"500893_0.00\", \"47972_0.00\", \"47973_0.00\"]  # Add more selection IDs as needed\n",
    "\n",
    "print(f\"Loading multiple selections for market {MARKET_ID}...\")\n",
    "print(\"Note: This will attempt to load data for multiple selections.\")\n",
    "print(\"If the API doesn't have data for some selections, they will be skipped.\")\n",
    "\n",
    "# For demonstration, create sample multi-selection data\n",
    "print(\"\\nCreating sample multi-selection comparison chart...\")\n",
    "\n",
    "# Sample data for multiple selections\n",
    "sample_periods = 80\n",
    "sample_time = pd.date_range(start='2024-01-01', periods=sample_periods, freq='3min')\n",
    "\n",
    "# Create sample data for 3 different selections\n",
    "sample_selections = {\n",
    "    'Selection_A': {\n",
    "        'price': 2.0 + np.cumsum(np.random.normal(0, 0.02, sample_periods)),\n",
    "        'volume': np.random.exponential(1000, sample_periods)\n",
    "    },\n",
    "    'Selection_B': {\n",
    "        'price': 3.5 + np.cumsum(np.random.normal(0, 0.03, sample_periods)),\n",
    "        'volume': np.random.exponential(800, sample_periods)\n",
    "    },\n",
    "    'Selection_C': {\n",
    "        'price': 4.2 + np.cumsum(np.random.normal(0, 0.025, sample_periods)),\n",
    "        'volume': np.random.exponential(1200, sample_periods)\n",
    "    }\n",
    "}\n",
    "\n",
    "# Create comparison chart\n",
    "comparison_fig = go.Figure()\n",
    "\n",
    "# Add price lines for each selection\n",
    "colors = ['#1f77b4', '#ff7f0e', '#2ca02c', '#d62728', '#9467bd']\n",
    "for i, (selection_name, selection_data) in enumerate(sample_selections.items()):\n",
    "    comparison_fig.add_trace(go.Scatter(\n",
    "        x=sample_time,\n",
    "        y=selection_data['price'],\n",
    "        mode='lines+markers',\n",
    "        name=selection_name,\n",
    "        line=dict(color=colors[i], width=3),\n",
    "        marker=dict(size=5)\n",
    "    ))\n",
    "\n",
    "comparison_fig.update_layout(\n",
    "    title='Multi-Selection Price Comparison (Demo Data)',\n",
    "    xaxis_title='Time',\n",
    "    yaxis_title='Price',\n",
    "    hovermode='x unified',\n",
    "    template='plotly_white',\n",
    "    height=600,\n",
    "    showlegend=True,\n",
    "    legend=dict(\n",
    "        yanchor=\"top\",\n",
    "        y=0.99,\n",
    "        xanchor=\"left\",\n",
    "        x=0.01\n",
    "    )\n",
    ")\n",
    "\n",
    "comparison_fig.show()\n",
    "print(\"Multi-selection comparison chart created successfully!\")\n",
    "\n",
    "# Create a correlation heatmap\n",
    "price_data = pd.DataFrame({name: data['price'] for name, data in sample_selections.items()})\n",
    "correlation_matrix = price_data.corr()\n",
    "\n",
    "correlation_fig = go.Figure(data=go.Heatmap(\n",
    "    z=correlation_matrix.values,\n",
    "    x=correlation_matrix.columns,\n",
    "    y=correlation_matrix.columns,\n",
    "    colorscale='RdBu',\n",
    "    zmid=0,\n",
    "    text=correlation_matrix.values.round(3),\n",
    "    texttemplate=\"%{text}\",\n",
    "    textfont={\"size\": 12},\n",
    "    hoverongaps=False\n",
    "))\n",
    "\n",
    "correlation_fig.update_layout(\n",
    "    title='Price Correlation Between Selections',\n",
    "    height=500,\n",
    "    template='plotly_white'\n",
    ")\n",
    "\n",
    "correlation_fig.show()\n",
    "print(\"Price correlation heatmap created successfully!\")"
   ]
  },
  {
   "cell_type": "markdown",
   "id": "81638b33",
   "metadata": {},
   "source": [
    "## Summary\n",
    "\n",
    "This notebook demonstrates how to:\n",
    "\n",
    "1. **Load data** from the Betfair API endpoint using Python requests\n",
    "2. **Parse and explore** the JSON response data structure\n",
    "3. **Prepare data** for visualization by converting timestamps and identifying price/volume columns\n",
    "4. **Create interactive price charts** showing price movements over time\n",
    "5. **Analyze volume patterns** with bar charts and scatter plots\n",
    "6. **Compare multiple selections** within the same market\n",
    "\n",
    "### Key Features:\n",
    "- **Error handling** for API requests and data parsing\n",
    "- **Flexible data structure detection** to work with various API response formats\n",
    "- **Interactive Plotly charts** for better data exploration\n",
    "- **Sample data generation** for demonstration when API data is unavailable\n",
    "\n",
    "### Next Steps:\n",
    "- Customize the analysis based on your specific API response structure\n",
    "- Add more sophisticated analytics (moving averages, volatility, etc.)\n",
    "- Implement real-time data updates\n",
    "- Add market efficiency analysis and arbitrage detection"
   ]
  },
  {
   "cell_type": "code",
   "execution_count": 8,
   "id": "03b2d7c7",
   "metadata": {},
   "outputs": [
    {
     "name": "stdout",
     "output_type": "stream",
     "text": [
      "=== NOTEBOOK EXECUTION SUMMARY ===\n",
      "✓ Libraries imported successfully\n",
      "✓ API endpoint configured: http://localhost:10043/api/getDataContextForBetfairMarketSelection?dataContextName=MarketSelectionsPriceHistoryData&marketId=1.244137767&selectionId=500893_0.00\n",
      "✓ Data loaded from API successfully\n",
      "✓ Data prepared for visualization (Shape: (1, 2))\n",
      "✓ Price history chart created\n",
      "✓ Volume analysis chart created\n",
      "✓ Multi-selection comparison chart created\n",
      "✓ Price correlation analysis completed\n",
      "\n",
      "To use with your actual API:\n",
      "1. Ensure the API endpoint is accessible\n",
      "2. Modify MARKET_ID and SELECTION_ID variables as needed\n",
      "3. Adjust data parsing logic based on your API response structure\n",
      "4. Customize chart styling and analysis as required\n"
     ]
    }
   ],
   "source": [
    "# Print summary of what was accomplished\n",
    "print(\"=== NOTEBOOK EXECUTION SUMMARY ===\")\n",
    "print(f\"✓ Libraries imported successfully\")\n",
    "print(f\"✓ API endpoint configured: {api_url}\")\n",
    "\n",
    "if 'raw_data' in locals() and raw_data:\n",
    "    print(f\"✓ Data loaded from API successfully\")\n",
    "else:\n",
    "    print(f\"⚠ API data not available - used sample data for demonstration\")\n",
    "\n",
    "if 'viz_df' in locals() and not viz_df.empty:\n",
    "    print(f\"✓ Data prepared for visualization (Shape: {viz_df.shape})\")\n",
    "else:\n",
    "    print(f\"⚠ Used sample data for visualization\")\n",
    "\n",
    "print(f\"✓ Price history chart created\")\n",
    "print(f\"✓ Volume analysis chart created\")\n",
    "print(f\"✓ Multi-selection comparison chart created\")\n",
    "print(f\"✓ Price correlation analysis completed\")\n",
    "\n",
    "print(f\"\\nTo use with your actual API:\")\n",
    "print(f\"1. Ensure the API endpoint is accessible\")\n",
    "print(f\"2. Modify MARKET_ID and SELECTION_ID variables as needed\")\n",
    "print(f\"3. Adjust data parsing logic based on your API response structure\")\n",
    "print(f\"4. Customize chart styling and analysis as required\")"
   ]
  }
 ],
 "metadata": {
  "kernelspec": {
   "display_name": "Python 3",
   "language": "python",
   "name": "python3"
  },
  "language_info": {
   "codemirror_mode": {
    "name": "ipython",
    "version": 3
   },
   "file_extension": ".py",
   "mimetype": "text/x-python",
   "name": "python",
   "nbconvert_exporter": "python",
   "pygments_lexer": "ipython3",
   "version": "3.12.1"
  }
 },
 "nbformat": 4,
 "nbformat_minor": 5
}
